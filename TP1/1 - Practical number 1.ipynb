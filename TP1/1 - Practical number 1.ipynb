{
 "cells": [
  {
   "cell_type": "markdown",
   "metadata": {},
   "source": [
    "# General Knowledge of API\n",
    "\n",
    "APIs, or Application Programming Interfaces, play a pivotal role in modern software development by facilitating communication and data exchange between different systems. They serve as bridges that allow applications to interact with each other seamlessly, enabling the creation of more robust and interconnected software.\n",
    "\n",
    "APIs come in various forms, each serving specific purposes in the realm of software development. Let's explore some fundamental concepts:"
   ]
  },
  {
   "cell_type": "markdown",
   "metadata": {},
   "source": [
    "- **Question 1:** *Name three types of API protocols. Briefly explain the primary use of each.*\n",
    "\n",
    "  - REST : utilisé pour des APIs web légères, il est très populaire car simple à implémenter, utilise des requêtes HTTP standard comme GET, POST OU PUT\n",
    "\n",
    "  - SOAP : utilisé pour des applications nécessitant une sécurité et une fiabilité accrues, comme dans les systèmes bancaires ou gouvernementaux, repose sur XML pour échanger des données\n",
    "\n",
    "  - GraphQL : permet de demander uniquement les données nécessaires dans un seul appel réseau, donne au client plus de contrôle sur la structure des données reçues\n",
    "\n",
    "  \n",
    "\n",
    "\n",
    "- **Question 2:** *What are the HTTP response code families? And what do they mean?*\n",
    "\n",
    "  - 1XX : Informationnel\n",
    "  - 2XX : Succès\n",
    "  - 3XX : Redirection\n",
    "  - 4XX : Erreur côté client\n",
    "  - 5XX : Erreur côté serveur\n",
    "\n",
    "  Understanding these families helps developers diagnose and troubleshoot issues during API interactions.\n",
    "\n",
    "- **Question 3:** *What do the HTTP response codes 201, 401, and 404 mean?*\n",
    "\n",
    "  - **201:** Une nouvelle ressource a été créée avec succès (souvent utilisé pour POST)\n",
    "  - **401:** Authentification requise ou échouée\n",
    "  - **404:** La ressource demandée n’a pas été trouvée\n",
    "\n",
    "- **Question 4:** *Name the 4 basic HTTP verbs.*\n",
    "\n",
    "  - GET\n",
    "  - POST\n",
    "  - PUT\n",
    "  - DELETE\n",
    "\n",
    "- **Question 5:** *Explain the difference between PUT and PATCH?*\n",
    "\n",
    "  - **PUT:** : met à jour l'intégralité d'une ressource, si certains champs sont manquants dans la requête, ils sont remplacés par leurs valeurs par défaut ou supprimés\n",
    "\n",
    "  - **PATCH:** : met à jour partiellement une ressource, seuls les champs spécifiés dans la requête sont modifiés, les autres restent inchangés\n",
    "\n",
    "- **Question 6:** *Name at least two data formats commonly used in API exchanges.*\n",
    "\n",
    "  - JSON\n",
    "\n",
    "  - XML\n",
    "\n",
    "- **Question 7:** *How can you verify the validity of a resource without getting the entire response?*\n",
    "\n",
    "  - we can use the HEAD request\n",
    "\n",
    "- **Question 8:** *What are the main concepts of REST? (name them)*\n",
    "\n",
    "  - Layered System\n",
    "  - Client-server\n",
    "  - Stateless\n",
    "  - Cacheable\n",
    "\n",
    "- **Question 9:** *Can you explain one of the main concepts of your choice from among those you mention? (Give an example if possible)*\n",
    "\n",
    "  - in REST, statelessness means that the server does not store any information about the client's state between requests. Each request from the client must include all the data necessary for the server to process it\n",
    "\n",
    "In the subsequent sections, we will delve into practical exercises to apply and deepen our understanding of these concepts using SOAP, REST, and GraphQL APIs.\n"
   ]
  },
  {
   "cell_type": "markdown",
   "metadata": {},
   "source": [
    "--------------------------"
   ]
  },
  {
   "cell_type": "markdown",
   "metadata": {},
   "source": [
    "# Exploring SOAP APIs\n",
    "\n",
    "### Few elements to remember about the SOAP Protocol\n",
    "\n",
    "The SOAP protocol, which means Simple Object Access Protocol, is one of the earliest web service protocols. SOAP is an XML-based protocol and was designed to provide a platform/language-independent way to exchange data between different systems over the internet.\n",
    "\n",
    "### Key Concepts in SOAP:\n",
    "\n",
    "- **XML-Based Structure:** SOAP messages are structured using XML, making them both human-readable and machine-readable. This structure allows for the encapsulation of data and its transport between systems.\n",
    "\n",
    "- **Platform and Language Independence:** One of the core objectives of SOAP is to provide a communication method that is independent of the underlying platform or programming language. This promotes interoperability between diverse systems.\n",
    "\n",
    "- **Message Format:** SOAP messages consist of an envelope that defines the message structure and rules for processing, a set of encoding rules for data types, and conventions for representing remote procedure calls.\n",
    "\n",
    "- **Transport Neutrality:** SOAP can be used with various transport protocols, including HTTP, SMTP, and more. This flexibility in transport makes it adaptable to different network environments.\n",
    "\n",
    "### Objective\n",
    "\n",
    "Obtain and display the capital of the Canada corresponding to the ISO code \"CA\" using the following SOAP API. \n",
    "Step by step guide :\n",
    "\n",
    "- **Step 1:** Examine the XML structure of the SOAP request provided. Identify the tag name that contains the ISO country code and the tag that will return the capital name.\n",
    "\n",
    "- **Step 2:** Modify the existing SOAP request to use the ISO code \"CA\" isntead of \"FR\". Ensure that the XML structure remains correct.\n",
    "\n",
    "- **Step 3:** Use the modified request to send a request to the SOAP services at the specified URL.\n",
    "\n",
    "- **Step 4:** Analyze the response received. Extract and display the capital name from the SOAP response.\n",
    "\n",
    "- **Step 5:** Remove sections of code that are not necessary to achieve this objective, in order to simply the script.\n",
    "\n",
    "\n",
    "### Documentation link :\n",
    "\n",
    "- https://www.postman.com/cs-demo/workspace/postman-customer-org-s-public-workspace/documentation/8854915-43f6a9be-0c65-4486-bfdf-36b6548161dd?entity=request-96a53688-6305-45be-ab8b-ca1d1c88f830\n",
    "- https://docs.insomnia.rest/"
   ]
  },
  {
   "cell_type": "code",
   "execution_count": 18,
   "metadata": {},
   "outputs": [
    {
     "name": "stdout",
     "output_type": "stream",
     "text": [
      "<?xml version=\"1.0\" encoding=\"utf-8\"?>\n",
      "<soap:Envelope xmlns:soap=\"http://schemas.xmlsoap.org/soap/envelope/\">\n",
      "  <soap:Body>\n",
      "    <m:CapitalCityResponse xmlns:m=\"http://www.oorsprong.org/websamples.countryinfo\">\n",
      "      <m:CapitalCityResult>Washington</m:CapitalCityResult>\n",
      "    </m:CapitalCityResponse>\n",
      "  </soap:Body>\n",
      "</soap:Envelope>\n"
     ]
    }
   ],
   "source": [
    "import requests\n",
    "# SOAP request URL\n",
    "url = \"http://webservices.oorsprong.org/websamples.countryinfo/CountryInfoService.wso\"\n",
    "\n",
    "# structured XML\n",
    "payload = \"\"\"<soap:Envelope xmlns:soap=\"http://schemas.xmlsoap.org/soap/envelope/\">\n",
    "                <soap:Body>\n",
    "                    <CapitalCity xmlns=\"http://www.oorsprong.org/websamples.countryinfo\">\n",
    "                        <sCountryISOCode>US</sCountryISOCode>\n",
    "                    </CapitalCity>\n",
    "                </soap:Body>\n",
    "                </soap:Envelope>\"\"\" \n",
    "# headers\n",
    "headers = {\n",
    "    'Content-Type': 'text/xml; charset=utf-8'\n",
    "}\n",
    "# POST request\n",
    "response = requests.request(\"POST\", url, headers=headers, data=payload)\n",
    "\n",
    "print(response.text)"
   ]
  },
  {
   "cell_type": "code",
   "execution_count": 31,
   "metadata": {},
   "outputs": [
    {
     "name": "stdout",
     "output_type": "stream",
     "text": [
      "The capital of Canada is: Ottawa\n"
     ]
    }
   ],
   "source": [
    "import requests\n",
    "from xml.etree import ElementTree as ET\n",
    "\n",
    "# SOAP request URL\n",
    "url = \"http://webservices.oorsprong.org/websamples.countryinfo/CountryInfoService.wso\"\n",
    "\n",
    "# structured XML\n",
    "payload = \"\"\"<soap:Envelope xmlns:soap=\"http://schemas.xmlsoap.org/soap/envelope/\">\n",
    "                <soap:Body>\n",
    "                    <CapitalCity xmlns=\"http://www.oorsprong.org/websamples.countryinfo\">\n",
    "                        <sCountryISOCode>CA</sCountryISOCode>\n",
    "                    </CapitalCity>\n",
    "                </soap:Body>\n",
    "              </soap:Envelope>\"\"\"\n",
    "\n",
    "# headers\n",
    "headers = {'Content-Type': 'text/xml; charset=utf-8'}\n",
    "\n",
    "# POST request\n",
    "response = requests.post(url, headers=headers, data=payload)\n",
    "\n",
    "# parse the response XML and extract the capital city\n",
    "root = ET.fromstring(response.text)\n",
    "capital = root.find('.//{http://www.oorsprong.org/websamples.countryinfo}CapitalCityResult').text # we need to put '{http://www.oorsprong.org/websamples.countryinfo}' to find the tag because ET uses namespaces\n",
    "\n",
    "# print result\n",
    "print(f\"The capital of Canada is: {capital}\")\n"
   ]
  },
  {
   "cell_type": "markdown",
   "metadata": {},
   "source": [
    "--------------------------"
   ]
  },
  {
   "cell_type": "markdown",
   "metadata": {},
   "source": [
    "# REST API Exercise: Star Wars Information Retrieval\n",
    "\n",
    "### Introduction \n",
    "\n",
    "In the exercice, you will explore the Star Wars API (SWAPI) to retrieve and analyze data related to Star Wars characters, films and planets. The SWAPI API is a RESTful web service that provideinformation about Star Wars universe, accessible through various endpoints.\\\n",
    "This exercice is designed to enhance your understanding of working with RESTful APIs, feel free to ask me if you have any question. Each task will build on the previous one so don't hesitate if you are blocked. Make sure to handle bad response code.\n",
    "\n",
    "### Few elements to remember about the REST Protocol\n",
    "\n",
    "REST (Representational State Transfer) is an architectural style for designing networked applications. RESTful APIs (Application Programming Interfaces) conform to the principles of REST, allowing systems to communicate over HTTP in a stateless manner; Some important aspects are:\n",
    "\n",
    "- **Resources:** Everything is a resource, identified by a unique URI.\n",
    "\n",
    "- **HTTP Methods:** CRUD operations are performed using standard HTTP methods (GET, POST, PUT, DELETE).\n",
    "\n",
    "- **Stateless:** Each request from a client contains all the information needed to understand and fulfill the request.\n",
    "\n",
    "### Key Concepts in REST:\n",
    "\n",
    "- **Endpoint:** A specific URI representing a resource. Endpoints are URLs that define where resources can be accessed.\n",
    "\n",
    "- **Basic HTTP Methods:** One of the core objectives of SOAP is to provide a communication method that is independent of the underlying platform or programming language. This promotes interoperability between diverse systems.\n",
    "    - **GET:** Retrieve data from a specified resource.\n",
    "    - **POST:** Submit data to be processed to a specified resource.\n",
    "    - **PUT:** Update a resource.\n",
    "    - **DELETE:** Delete a resource.\n",
    "\n",
    "- **Request and Response:**\n",
    "    - **Request:** The client's message to the server, including the HTTP method, headers, and optional data.\n",
    "    - **Response:** The server's reply to the client's request, containing status information and, optionally, data.\n",
    "\n",
    "\n",
    "### Objective\n",
    "\n",
    "- **Step 1: Introduction:** Find some informations about the SWAPI API : the base URL, the Rate limiting and How to auhtenticate. Find information on all available resources withing this API with a request.\n",
    "\n",
    "- **Step 2: Retrieve Character Information:** Retrieve all characters informations (name, gender, height, ...).\n",
    "\n",
    "- **Step 3: Retrieve Film Information:** Retrieve all films informations (title, director, release date, ...).\n",
    "\n",
    "- **Step 4: Retrieve Planet Information:** Retrieve all planets informations (name, population, climate, ...).\n",
    "\n",
    "- **Step 5: Search and Display:** Create a function to search for and display information about a specific character based on its name. Be sure to handle cases of bad queries and to make at least three unittests with an understandable name.\n",
    "\n",
    "- **Step 6: Advanced Query:** Store in a pandas dataframe all informations about all the characters of the film you want. Group the characters by species at the end.\n",
    "\n",
    "- **Step 7: Data Analysis:** Create an advanced query to retrieve information on all the films, and find a way to rank them according to the number of characters in the film.  \n",
    "\n",
    "- **Step 8 bonus: Additional Endpoint:** Explore an additional endpoint and make a request to display relevant information. For exemple to retrieve starship or vehicles informations.\n",
    "\n",
    "\n",
    "### Documentation link :\n",
    "\n",
    "- https://swapi.dev/documentation"
   ]
  },
  {
   "cell_type": "code",
   "execution_count": 15,
   "metadata": {},
   "outputs": [
    {
     "data": {
      "text/plain": [
       "{'people': 'https://swapi.dev/api/people/',\n",
       " 'planets': 'https://swapi.dev/api/planets/',\n",
       " 'films': 'https://swapi.dev/api/films/',\n",
       " 'species': 'https://swapi.dev/api/species/',\n",
       " 'vehicles': 'https://swapi.dev/api/vehicles/',\n",
       " 'starships': 'https://swapi.dev/api/starships/'}"
      ]
     },
     "execution_count": 15,
     "metadata": {},
     "output_type": "execute_result"
    }
   ],
   "source": [
    "url = \"https://swapi.dev/api/\"\n",
    "\n",
    "response = requests.get(url)\n",
    "response.json()"
   ]
  },
  {
   "cell_type": "code",
   "execution_count": 9,
   "metadata": {},
   "outputs": [
    {
     "name": "stdout",
     "output_type": "stream",
     "text": [
      "Characters : \n",
      " {'count': 82, 'next': 'https://swapi.dev/api/people/?page=2', 'previous': None, 'results': [{'name': 'Luke Skywalker', 'height': '172', 'mass': '77', 'hair_color': 'blond', 'skin_color': 'fair', 'eye_color': 'blue', 'birth_year': '19BBY', 'gender': 'male', 'homeworld': 'https://swapi.dev/api/planets/1/', 'films': ['https://swapi.dev/api/films/1/', 'https://swapi.dev/api/films/2/', 'https://swapi.dev/api/films/3/', 'https://swapi.dev/api/films/6/'], 'species': [], 'vehicles': ['https://swapi.dev/api/vehicles/14/', 'https://swapi.dev/api/vehicles/30/'], 'starships': ['https://swapi.dev/api/starships/12/', 'https://swapi.dev/api/starships/22/'], 'created': '2014-12-09T13:50:51.644000Z', 'edited': '2014-12-20T21:17:56.891000Z', 'url': 'https://swapi.dev/api/people/1/'}, {'name': 'C-3PO', 'height': '167', 'mass': '75', 'hair_color': 'n/a', 'skin_color': 'gold', 'eye_color': 'yellow', 'birth_year': '112BBY', 'gender': 'n/a', 'homeworld': 'https://swapi.dev/api/planets/1/', 'films': ['https://swapi.dev/api/films/1/', 'https://swapi.dev/api/films/2/', 'https://swapi.dev/api/films/3/', 'https://swapi.dev/api/films/4/', 'https://swapi.dev/api/films/5/', 'https://swapi.dev/api/films/6/'], 'species': ['https://swapi.dev/api/species/2/'], 'vehicles': [], 'starships': [], 'created': '2014-12-10T15:10:51.357000Z', 'edited': '2014-12-20T21:17:50.309000Z', 'url': 'https://swapi.dev/api/people/2/'}, {'name': 'R2-D2', 'height': '96', 'mass': '32', 'hair_color': 'n/a', 'skin_color': 'white, blue', 'eye_color': 'red', 'birth_year': '33BBY', 'gender': 'n/a', 'homeworld': 'https://swapi.dev/api/planets/8/', 'films': ['https://swapi.dev/api/films/1/', 'https://swapi.dev/api/films/2/', 'https://swapi.dev/api/films/3/', 'https://swapi.dev/api/films/4/', 'https://swapi.dev/api/films/5/', 'https://swapi.dev/api/films/6/'], 'species': ['https://swapi.dev/api/species/2/'], 'vehicles': [], 'starships': [], 'created': '2014-12-10T15:11:50.376000Z', 'edited': '2014-12-20T21:17:50.311000Z', 'url': 'https://swapi.dev/api/people/3/'}, {'name': 'Darth Vader', 'height': '202', 'mass': '136', 'hair_color': 'none', 'skin_color': 'white', 'eye_color': 'yellow', 'birth_year': '41.9BBY', 'gender': 'male', 'homeworld': 'https://swapi.dev/api/planets/1/', 'films': ['https://swapi.dev/api/films/1/', 'https://swapi.dev/api/films/2/', 'https://swapi.dev/api/films/3/', 'https://swapi.dev/api/films/6/'], 'species': [], 'vehicles': [], 'starships': ['https://swapi.dev/api/starships/13/'], 'created': '2014-12-10T15:18:20.704000Z', 'edited': '2014-12-20T21:17:50.313000Z', 'url': 'https://swapi.dev/api/people/4/'}, {'name': 'Leia Organa', 'height': '150', 'mass': '49', 'hair_color': 'brown', 'skin_color': 'light', 'eye_color': 'brown', 'birth_year': '19BBY', 'gender': 'female', 'homeworld': 'https://swapi.dev/api/planets/2/', 'films': ['https://swapi.dev/api/films/1/', 'https://swapi.dev/api/films/2/', 'https://swapi.dev/api/films/3/', 'https://swapi.dev/api/films/6/'], 'species': [], 'vehicles': ['https://swapi.dev/api/vehicles/30/'], 'starships': [], 'created': '2014-12-10T15:20:09.791000Z', 'edited': '2014-12-20T21:17:50.315000Z', 'url': 'https://swapi.dev/api/people/5/'}, {'name': 'Owen Lars', 'height': '178', 'mass': '120', 'hair_color': 'brown, grey', 'skin_color': 'light', 'eye_color': 'blue', 'birth_year': '52BBY', 'gender': 'male', 'homeworld': 'https://swapi.dev/api/planets/1/', 'films': ['https://swapi.dev/api/films/1/', 'https://swapi.dev/api/films/5/', 'https://swapi.dev/api/films/6/'], 'species': [], 'vehicles': [], 'starships': [], 'created': '2014-12-10T15:52:14.024000Z', 'edited': '2014-12-20T21:17:50.317000Z', 'url': 'https://swapi.dev/api/people/6/'}, {'name': 'Beru Whitesun lars', 'height': '165', 'mass': '75', 'hair_color': 'brown', 'skin_color': 'light', 'eye_color': 'blue', 'birth_year': '47BBY', 'gender': 'female', 'homeworld': 'https://swapi.dev/api/planets/1/', 'films': ['https://swapi.dev/api/films/1/', 'https://swapi.dev/api/films/5/', 'https://swapi.dev/api/films/6/'], 'species': [], 'vehicles': [], 'starships': [], 'created': '2014-12-10T15:53:41.121000Z', 'edited': '2014-12-20T21:17:50.319000Z', 'url': 'https://swapi.dev/api/people/7/'}, {'name': 'R5-D4', 'height': '97', 'mass': '32', 'hair_color': 'n/a', 'skin_color': 'white, red', 'eye_color': 'red', 'birth_year': 'unknown', 'gender': 'n/a', 'homeworld': 'https://swapi.dev/api/planets/1/', 'films': ['https://swapi.dev/api/films/1/'], 'species': ['https://swapi.dev/api/species/2/'], 'vehicles': [], 'starships': [], 'created': '2014-12-10T15:57:50.959000Z', 'edited': '2014-12-20T21:17:50.321000Z', 'url': 'https://swapi.dev/api/people/8/'}, {'name': 'Biggs Darklighter', 'height': '183', 'mass': '84', 'hair_color': 'black', 'skin_color': 'light', 'eye_color': 'brown', 'birth_year': '24BBY', 'gender': 'male', 'homeworld': 'https://swapi.dev/api/planets/1/', 'films': ['https://swapi.dev/api/films/1/'], 'species': [], 'vehicles': [], 'starships': ['https://swapi.dev/api/starships/12/'], 'created': '2014-12-10T15:59:50.509000Z', 'edited': '2014-12-20T21:17:50.323000Z', 'url': 'https://swapi.dev/api/people/9/'}, {'name': 'Obi-Wan Kenobi', 'height': '182', 'mass': '77', 'hair_color': 'auburn, white', 'skin_color': 'fair', 'eye_color': 'blue-gray', 'birth_year': '57BBY', 'gender': 'male', 'homeworld': 'https://swapi.dev/api/planets/20/', 'films': ['https://swapi.dev/api/films/1/', 'https://swapi.dev/api/films/2/', 'https://swapi.dev/api/films/3/', 'https://swapi.dev/api/films/4/', 'https://swapi.dev/api/films/5/', 'https://swapi.dev/api/films/6/'], 'species': [], 'vehicles': ['https://swapi.dev/api/vehicles/38/'], 'starships': ['https://swapi.dev/api/starships/48/', 'https://swapi.dev/api/starships/59/', 'https://swapi.dev/api/starships/64/', 'https://swapi.dev/api/starships/65/', 'https://swapi.dev/api/starships/74/'], 'created': '2014-12-10T16:16:29.192000Z', 'edited': '2014-12-20T21:17:50.325000Z', 'url': 'https://swapi.dev/api/people/10/'}]}\n"
     ]
    }
   ],
   "source": [
    "url = \"https://swapi.dev/api/people/\"\n",
    "params = {\n",
    "}\n",
    "\n",
    "response = requests.get(url, params=params)\n",
    "character_data = response.json()\n",
    "print('Characters : \\n', character_data)"
   ]
  },
  {
   "cell_type": "code",
   "execution_count": 16,
   "metadata": {},
   "outputs": [
    {
     "name": "stdout",
     "output_type": "stream",
     "text": [
      "Films : \n",
      " {'count': 6, 'next': None, 'previous': None, 'results': [{'title': 'A New Hope', 'episode_id': 4, 'opening_crawl': \"It is a period of civil war.\\r\\nRebel spaceships, striking\\r\\nfrom a hidden base, have won\\r\\ntheir first victory against\\r\\nthe evil Galactic Empire.\\r\\n\\r\\nDuring the battle, Rebel\\r\\nspies managed to steal secret\\r\\nplans to the Empire's\\r\\nultimate weapon, the DEATH\\r\\nSTAR, an armored space\\r\\nstation with enough power\\r\\nto destroy an entire planet.\\r\\n\\r\\nPursued by the Empire's\\r\\nsinister agents, Princess\\r\\nLeia races home aboard her\\r\\nstarship, custodian of the\\r\\nstolen plans that can save her\\r\\npeople and restore\\r\\nfreedom to the galaxy....\", 'director': 'George Lucas', 'producer': 'Gary Kurtz, Rick McCallum', 'release_date': '1977-05-25', 'characters': ['https://swapi.dev/api/people/1/', 'https://swapi.dev/api/people/2/', 'https://swapi.dev/api/people/3/', 'https://swapi.dev/api/people/4/', 'https://swapi.dev/api/people/5/', 'https://swapi.dev/api/people/6/', 'https://swapi.dev/api/people/7/', 'https://swapi.dev/api/people/8/', 'https://swapi.dev/api/people/9/', 'https://swapi.dev/api/people/10/', 'https://swapi.dev/api/people/12/', 'https://swapi.dev/api/people/13/', 'https://swapi.dev/api/people/14/', 'https://swapi.dev/api/people/15/', 'https://swapi.dev/api/people/16/', 'https://swapi.dev/api/people/18/', 'https://swapi.dev/api/people/19/', 'https://swapi.dev/api/people/81/'], 'planets': ['https://swapi.dev/api/planets/1/', 'https://swapi.dev/api/planets/2/', 'https://swapi.dev/api/planets/3/'], 'starships': ['https://swapi.dev/api/starships/2/', 'https://swapi.dev/api/starships/3/', 'https://swapi.dev/api/starships/5/', 'https://swapi.dev/api/starships/9/', 'https://swapi.dev/api/starships/10/', 'https://swapi.dev/api/starships/11/', 'https://swapi.dev/api/starships/12/', 'https://swapi.dev/api/starships/13/'], 'vehicles': ['https://swapi.dev/api/vehicles/4/', 'https://swapi.dev/api/vehicles/6/', 'https://swapi.dev/api/vehicles/7/', 'https://swapi.dev/api/vehicles/8/'], 'species': ['https://swapi.dev/api/species/1/', 'https://swapi.dev/api/species/2/', 'https://swapi.dev/api/species/3/', 'https://swapi.dev/api/species/4/', 'https://swapi.dev/api/species/5/'], 'created': '2014-12-10T14:23:31.880000Z', 'edited': '2014-12-20T19:49:45.256000Z', 'url': 'https://swapi.dev/api/films/1/'}, {'title': 'The Empire Strikes Back', 'episode_id': 5, 'opening_crawl': 'It is a dark time for the\\r\\nRebellion. Although the Death\\r\\nStar has been destroyed,\\r\\nImperial troops have driven the\\r\\nRebel forces from their hidden\\r\\nbase and pursued them across\\r\\nthe galaxy.\\r\\n\\r\\nEvading the dreaded Imperial\\r\\nStarfleet, a group of freedom\\r\\nfighters led by Luke Skywalker\\r\\nhas established a new secret\\r\\nbase on the remote ice world\\r\\nof Hoth.\\r\\n\\r\\nThe evil lord Darth Vader,\\r\\nobsessed with finding young\\r\\nSkywalker, has dispatched\\r\\nthousands of remote probes into\\r\\nthe far reaches of space....', 'director': 'Irvin Kershner', 'producer': 'Gary Kurtz, Rick McCallum', 'release_date': '1980-05-17', 'characters': ['https://swapi.dev/api/people/1/', 'https://swapi.dev/api/people/2/', 'https://swapi.dev/api/people/3/', 'https://swapi.dev/api/people/4/', 'https://swapi.dev/api/people/5/', 'https://swapi.dev/api/people/10/', 'https://swapi.dev/api/people/13/', 'https://swapi.dev/api/people/14/', 'https://swapi.dev/api/people/18/', 'https://swapi.dev/api/people/20/', 'https://swapi.dev/api/people/21/', 'https://swapi.dev/api/people/22/', 'https://swapi.dev/api/people/23/', 'https://swapi.dev/api/people/24/', 'https://swapi.dev/api/people/25/', 'https://swapi.dev/api/people/26/'], 'planets': ['https://swapi.dev/api/planets/4/', 'https://swapi.dev/api/planets/5/', 'https://swapi.dev/api/planets/6/', 'https://swapi.dev/api/planets/27/'], 'starships': ['https://swapi.dev/api/starships/3/', 'https://swapi.dev/api/starships/10/', 'https://swapi.dev/api/starships/11/', 'https://swapi.dev/api/starships/12/', 'https://swapi.dev/api/starships/15/', 'https://swapi.dev/api/starships/17/', 'https://swapi.dev/api/starships/21/', 'https://swapi.dev/api/starships/22/', 'https://swapi.dev/api/starships/23/'], 'vehicles': ['https://swapi.dev/api/vehicles/8/', 'https://swapi.dev/api/vehicles/14/', 'https://swapi.dev/api/vehicles/16/', 'https://swapi.dev/api/vehicles/18/', 'https://swapi.dev/api/vehicles/19/', 'https://swapi.dev/api/vehicles/20/'], 'species': ['https://swapi.dev/api/species/1/', 'https://swapi.dev/api/species/2/', 'https://swapi.dev/api/species/3/', 'https://swapi.dev/api/species/6/', 'https://swapi.dev/api/species/7/'], 'created': '2014-12-12T11:26:24.656000Z', 'edited': '2014-12-15T13:07:53.386000Z', 'url': 'https://swapi.dev/api/films/2/'}, {'title': 'Return of the Jedi', 'episode_id': 6, 'opening_crawl': 'Luke Skywalker has returned to\\r\\nhis home planet of Tatooine in\\r\\nan attempt to rescue his\\r\\nfriend Han Solo from the\\r\\nclutches of the vile gangster\\r\\nJabba the Hutt.\\r\\n\\r\\nLittle does Luke know that the\\r\\nGALACTIC EMPIRE has secretly\\r\\nbegun construction on a new\\r\\narmored space station even\\r\\nmore powerful than the first\\r\\ndreaded Death Star.\\r\\n\\r\\nWhen completed, this ultimate\\r\\nweapon will spell certain doom\\r\\nfor the small band of rebels\\r\\nstruggling to restore freedom\\r\\nto the galaxy...', 'director': 'Richard Marquand', 'producer': 'Howard G. Kazanjian, George Lucas, Rick McCallum', 'release_date': '1983-05-25', 'characters': ['https://swapi.dev/api/people/1/', 'https://swapi.dev/api/people/2/', 'https://swapi.dev/api/people/3/', 'https://swapi.dev/api/people/4/', 'https://swapi.dev/api/people/5/', 'https://swapi.dev/api/people/10/', 'https://swapi.dev/api/people/13/', 'https://swapi.dev/api/people/14/', 'https://swapi.dev/api/people/16/', 'https://swapi.dev/api/people/18/', 'https://swapi.dev/api/people/20/', 'https://swapi.dev/api/people/21/', 'https://swapi.dev/api/people/22/', 'https://swapi.dev/api/people/25/', 'https://swapi.dev/api/people/27/', 'https://swapi.dev/api/people/28/', 'https://swapi.dev/api/people/29/', 'https://swapi.dev/api/people/30/', 'https://swapi.dev/api/people/31/', 'https://swapi.dev/api/people/45/'], 'planets': ['https://swapi.dev/api/planets/1/', 'https://swapi.dev/api/planets/5/', 'https://swapi.dev/api/planets/7/', 'https://swapi.dev/api/planets/8/', 'https://swapi.dev/api/planets/9/'], 'starships': ['https://swapi.dev/api/starships/2/', 'https://swapi.dev/api/starships/3/', 'https://swapi.dev/api/starships/10/', 'https://swapi.dev/api/starships/11/', 'https://swapi.dev/api/starships/12/', 'https://swapi.dev/api/starships/15/', 'https://swapi.dev/api/starships/17/', 'https://swapi.dev/api/starships/22/', 'https://swapi.dev/api/starships/23/', 'https://swapi.dev/api/starships/27/', 'https://swapi.dev/api/starships/28/', 'https://swapi.dev/api/starships/29/'], 'vehicles': ['https://swapi.dev/api/vehicles/8/', 'https://swapi.dev/api/vehicles/16/', 'https://swapi.dev/api/vehicles/18/', 'https://swapi.dev/api/vehicles/19/', 'https://swapi.dev/api/vehicles/24/', 'https://swapi.dev/api/vehicles/25/', 'https://swapi.dev/api/vehicles/26/', 'https://swapi.dev/api/vehicles/30/'], 'species': ['https://swapi.dev/api/species/1/', 'https://swapi.dev/api/species/2/', 'https://swapi.dev/api/species/3/', 'https://swapi.dev/api/species/5/', 'https://swapi.dev/api/species/6/', 'https://swapi.dev/api/species/8/', 'https://swapi.dev/api/species/9/', 'https://swapi.dev/api/species/10/', 'https://swapi.dev/api/species/15/'], 'created': '2014-12-18T10:39:33.255000Z', 'edited': '2014-12-20T09:48:37.462000Z', 'url': 'https://swapi.dev/api/films/3/'}, {'title': 'The Phantom Menace', 'episode_id': 1, 'opening_crawl': 'Turmoil has engulfed the\\r\\nGalactic Republic. The taxation\\r\\nof trade routes to outlying star\\r\\nsystems is in dispute.\\r\\n\\r\\nHoping to resolve the matter\\r\\nwith a blockade of deadly\\r\\nbattleships, the greedy Trade\\r\\nFederation has stopped all\\r\\nshipping to the small planet\\r\\nof Naboo.\\r\\n\\r\\nWhile the Congress of the\\r\\nRepublic endlessly debates\\r\\nthis alarming chain of events,\\r\\nthe Supreme Chancellor has\\r\\nsecretly dispatched two Jedi\\r\\nKnights, the guardians of\\r\\npeace and justice in the\\r\\ngalaxy, to settle the conflict....', 'director': 'George Lucas', 'producer': 'Rick McCallum', 'release_date': '1999-05-19', 'characters': ['https://swapi.dev/api/people/2/', 'https://swapi.dev/api/people/3/', 'https://swapi.dev/api/people/10/', 'https://swapi.dev/api/people/11/', 'https://swapi.dev/api/people/16/', 'https://swapi.dev/api/people/20/', 'https://swapi.dev/api/people/21/', 'https://swapi.dev/api/people/32/', 'https://swapi.dev/api/people/33/', 'https://swapi.dev/api/people/34/', 'https://swapi.dev/api/people/35/', 'https://swapi.dev/api/people/36/', 'https://swapi.dev/api/people/37/', 'https://swapi.dev/api/people/38/', 'https://swapi.dev/api/people/39/', 'https://swapi.dev/api/people/40/', 'https://swapi.dev/api/people/41/', 'https://swapi.dev/api/people/42/', 'https://swapi.dev/api/people/43/', 'https://swapi.dev/api/people/44/', 'https://swapi.dev/api/people/46/', 'https://swapi.dev/api/people/47/', 'https://swapi.dev/api/people/48/', 'https://swapi.dev/api/people/49/', 'https://swapi.dev/api/people/50/', 'https://swapi.dev/api/people/51/', 'https://swapi.dev/api/people/52/', 'https://swapi.dev/api/people/53/', 'https://swapi.dev/api/people/54/', 'https://swapi.dev/api/people/55/', 'https://swapi.dev/api/people/56/', 'https://swapi.dev/api/people/57/', 'https://swapi.dev/api/people/58/', 'https://swapi.dev/api/people/59/'], 'planets': ['https://swapi.dev/api/planets/1/', 'https://swapi.dev/api/planets/8/', 'https://swapi.dev/api/planets/9/'], 'starships': ['https://swapi.dev/api/starships/31/', 'https://swapi.dev/api/starships/32/', 'https://swapi.dev/api/starships/39/', 'https://swapi.dev/api/starships/40/', 'https://swapi.dev/api/starships/41/'], 'vehicles': ['https://swapi.dev/api/vehicles/33/', 'https://swapi.dev/api/vehicles/34/', 'https://swapi.dev/api/vehicles/35/', 'https://swapi.dev/api/vehicles/36/', 'https://swapi.dev/api/vehicles/37/', 'https://swapi.dev/api/vehicles/38/', 'https://swapi.dev/api/vehicles/42/'], 'species': ['https://swapi.dev/api/species/1/', 'https://swapi.dev/api/species/2/', 'https://swapi.dev/api/species/6/', 'https://swapi.dev/api/species/11/', 'https://swapi.dev/api/species/12/', 'https://swapi.dev/api/species/13/', 'https://swapi.dev/api/species/14/', 'https://swapi.dev/api/species/15/', 'https://swapi.dev/api/species/16/', 'https://swapi.dev/api/species/17/', 'https://swapi.dev/api/species/18/', 'https://swapi.dev/api/species/19/', 'https://swapi.dev/api/species/20/', 'https://swapi.dev/api/species/21/', 'https://swapi.dev/api/species/22/', 'https://swapi.dev/api/species/23/', 'https://swapi.dev/api/species/24/', 'https://swapi.dev/api/species/25/', 'https://swapi.dev/api/species/26/', 'https://swapi.dev/api/species/27/'], 'created': '2014-12-19T16:52:55.740000Z', 'edited': '2014-12-20T10:54:07.216000Z', 'url': 'https://swapi.dev/api/films/4/'}, {'title': 'Attack of the Clones', 'episode_id': 2, 'opening_crawl': 'There is unrest in the Galactic\\r\\nSenate. Several thousand solar\\r\\nsystems have declared their\\r\\nintentions to leave the Republic.\\r\\n\\r\\nThis separatist movement,\\r\\nunder the leadership of the\\r\\nmysterious Count Dooku, has\\r\\nmade it difficult for the limited\\r\\nnumber of Jedi Knights to maintain \\r\\npeace and order in the galaxy.\\r\\n\\r\\nSenator Amidala, the former\\r\\nQueen of Naboo, is returning\\r\\nto the Galactic Senate to vote\\r\\non the critical issue of creating\\r\\nan ARMY OF THE REPUBLIC\\r\\nto assist the overwhelmed\\r\\nJedi....', 'director': 'George Lucas', 'producer': 'Rick McCallum', 'release_date': '2002-05-16', 'characters': ['https://swapi.dev/api/people/2/', 'https://swapi.dev/api/people/3/', 'https://swapi.dev/api/people/6/', 'https://swapi.dev/api/people/7/', 'https://swapi.dev/api/people/10/', 'https://swapi.dev/api/people/11/', 'https://swapi.dev/api/people/20/', 'https://swapi.dev/api/people/21/', 'https://swapi.dev/api/people/22/', 'https://swapi.dev/api/people/33/', 'https://swapi.dev/api/people/35/', 'https://swapi.dev/api/people/36/', 'https://swapi.dev/api/people/40/', 'https://swapi.dev/api/people/43/', 'https://swapi.dev/api/people/46/', 'https://swapi.dev/api/people/51/', 'https://swapi.dev/api/people/52/', 'https://swapi.dev/api/people/53/', 'https://swapi.dev/api/people/58/', 'https://swapi.dev/api/people/59/', 'https://swapi.dev/api/people/60/', 'https://swapi.dev/api/people/61/', 'https://swapi.dev/api/people/62/', 'https://swapi.dev/api/people/63/', 'https://swapi.dev/api/people/64/', 'https://swapi.dev/api/people/65/', 'https://swapi.dev/api/people/66/', 'https://swapi.dev/api/people/67/', 'https://swapi.dev/api/people/68/', 'https://swapi.dev/api/people/69/', 'https://swapi.dev/api/people/70/', 'https://swapi.dev/api/people/71/', 'https://swapi.dev/api/people/72/', 'https://swapi.dev/api/people/73/', 'https://swapi.dev/api/people/74/', 'https://swapi.dev/api/people/75/', 'https://swapi.dev/api/people/76/', 'https://swapi.dev/api/people/77/', 'https://swapi.dev/api/people/78/', 'https://swapi.dev/api/people/82/'], 'planets': ['https://swapi.dev/api/planets/1/', 'https://swapi.dev/api/planets/8/', 'https://swapi.dev/api/planets/9/', 'https://swapi.dev/api/planets/10/', 'https://swapi.dev/api/planets/11/'], 'starships': ['https://swapi.dev/api/starships/21/', 'https://swapi.dev/api/starships/32/', 'https://swapi.dev/api/starships/39/', 'https://swapi.dev/api/starships/43/', 'https://swapi.dev/api/starships/47/', 'https://swapi.dev/api/starships/48/', 'https://swapi.dev/api/starships/49/', 'https://swapi.dev/api/starships/52/', 'https://swapi.dev/api/starships/58/'], 'vehicles': ['https://swapi.dev/api/vehicles/4/', 'https://swapi.dev/api/vehicles/44/', 'https://swapi.dev/api/vehicles/45/', 'https://swapi.dev/api/vehicles/46/', 'https://swapi.dev/api/vehicles/50/', 'https://swapi.dev/api/vehicles/51/', 'https://swapi.dev/api/vehicles/53/', 'https://swapi.dev/api/vehicles/54/', 'https://swapi.dev/api/vehicles/55/', 'https://swapi.dev/api/vehicles/56/', 'https://swapi.dev/api/vehicles/57/'], 'species': ['https://swapi.dev/api/species/1/', 'https://swapi.dev/api/species/2/', 'https://swapi.dev/api/species/6/', 'https://swapi.dev/api/species/12/', 'https://swapi.dev/api/species/13/', 'https://swapi.dev/api/species/15/', 'https://swapi.dev/api/species/28/', 'https://swapi.dev/api/species/29/', 'https://swapi.dev/api/species/30/', 'https://swapi.dev/api/species/31/', 'https://swapi.dev/api/species/32/', 'https://swapi.dev/api/species/33/', 'https://swapi.dev/api/species/34/', 'https://swapi.dev/api/species/35/'], 'created': '2014-12-20T10:57:57.886000Z', 'edited': '2014-12-20T20:18:48.516000Z', 'url': 'https://swapi.dev/api/films/5/'}, {'title': 'Revenge of the Sith', 'episode_id': 3, 'opening_crawl': 'War! The Republic is crumbling\\r\\nunder attacks by the ruthless\\r\\nSith Lord, Count Dooku.\\r\\nThere are heroes on both sides.\\r\\nEvil is everywhere.\\r\\n\\r\\nIn a stunning move, the\\r\\nfiendish droid leader, General\\r\\nGrievous, has swept into the\\r\\nRepublic capital and kidnapped\\r\\nChancellor Palpatine, leader of\\r\\nthe Galactic Senate.\\r\\n\\r\\nAs the Separatist Droid Army\\r\\nattempts to flee the besieged\\r\\ncapital with their valuable\\r\\nhostage, two Jedi Knights lead a\\r\\ndesperate mission to rescue the\\r\\ncaptive Chancellor....', 'director': 'George Lucas', 'producer': 'Rick McCallum', 'release_date': '2005-05-19', 'characters': ['https://swapi.dev/api/people/1/', 'https://swapi.dev/api/people/2/', 'https://swapi.dev/api/people/3/', 'https://swapi.dev/api/people/4/', 'https://swapi.dev/api/people/5/', 'https://swapi.dev/api/people/6/', 'https://swapi.dev/api/people/7/', 'https://swapi.dev/api/people/10/', 'https://swapi.dev/api/people/11/', 'https://swapi.dev/api/people/12/', 'https://swapi.dev/api/people/13/', 'https://swapi.dev/api/people/20/', 'https://swapi.dev/api/people/21/', 'https://swapi.dev/api/people/33/', 'https://swapi.dev/api/people/35/', 'https://swapi.dev/api/people/46/', 'https://swapi.dev/api/people/51/', 'https://swapi.dev/api/people/52/', 'https://swapi.dev/api/people/53/', 'https://swapi.dev/api/people/54/', 'https://swapi.dev/api/people/55/', 'https://swapi.dev/api/people/56/', 'https://swapi.dev/api/people/58/', 'https://swapi.dev/api/people/63/', 'https://swapi.dev/api/people/64/', 'https://swapi.dev/api/people/67/', 'https://swapi.dev/api/people/68/', 'https://swapi.dev/api/people/75/', 'https://swapi.dev/api/people/78/', 'https://swapi.dev/api/people/79/', 'https://swapi.dev/api/people/80/', 'https://swapi.dev/api/people/81/', 'https://swapi.dev/api/people/82/', 'https://swapi.dev/api/people/83/'], 'planets': ['https://swapi.dev/api/planets/1/', 'https://swapi.dev/api/planets/2/', 'https://swapi.dev/api/planets/5/', 'https://swapi.dev/api/planets/8/', 'https://swapi.dev/api/planets/9/', 'https://swapi.dev/api/planets/12/', 'https://swapi.dev/api/planets/13/', 'https://swapi.dev/api/planets/14/', 'https://swapi.dev/api/planets/15/', 'https://swapi.dev/api/planets/16/', 'https://swapi.dev/api/planets/17/', 'https://swapi.dev/api/planets/18/', 'https://swapi.dev/api/planets/19/'], 'starships': ['https://swapi.dev/api/starships/2/', 'https://swapi.dev/api/starships/32/', 'https://swapi.dev/api/starships/48/', 'https://swapi.dev/api/starships/59/', 'https://swapi.dev/api/starships/61/', 'https://swapi.dev/api/starships/63/', 'https://swapi.dev/api/starships/64/', 'https://swapi.dev/api/starships/65/', 'https://swapi.dev/api/starships/66/', 'https://swapi.dev/api/starships/68/', 'https://swapi.dev/api/starships/74/', 'https://swapi.dev/api/starships/75/'], 'vehicles': ['https://swapi.dev/api/vehicles/33/', 'https://swapi.dev/api/vehicles/50/', 'https://swapi.dev/api/vehicles/53/', 'https://swapi.dev/api/vehicles/56/', 'https://swapi.dev/api/vehicles/60/', 'https://swapi.dev/api/vehicles/62/', 'https://swapi.dev/api/vehicles/67/', 'https://swapi.dev/api/vehicles/69/', 'https://swapi.dev/api/vehicles/70/', 'https://swapi.dev/api/vehicles/71/', 'https://swapi.dev/api/vehicles/72/', 'https://swapi.dev/api/vehicles/73/', 'https://swapi.dev/api/vehicles/76/'], 'species': ['https://swapi.dev/api/species/1/', 'https://swapi.dev/api/species/2/', 'https://swapi.dev/api/species/3/', 'https://swapi.dev/api/species/6/', 'https://swapi.dev/api/species/15/', 'https://swapi.dev/api/species/19/', 'https://swapi.dev/api/species/20/', 'https://swapi.dev/api/species/23/', 'https://swapi.dev/api/species/24/', 'https://swapi.dev/api/species/25/', 'https://swapi.dev/api/species/26/', 'https://swapi.dev/api/species/27/', 'https://swapi.dev/api/species/28/', 'https://swapi.dev/api/species/29/', 'https://swapi.dev/api/species/30/', 'https://swapi.dev/api/species/33/', 'https://swapi.dev/api/species/34/', 'https://swapi.dev/api/species/35/', 'https://swapi.dev/api/species/36/', 'https://swapi.dev/api/species/37/'], 'created': '2014-12-20T18:49:38.403000Z', 'edited': '2014-12-20T20:47:52.073000Z', 'url': 'https://swapi.dev/api/films/6/'}]}\n"
     ]
    }
   ],
   "source": [
    "url = \"https://swapi.dev/api/films/\"\n",
    "params = {\n",
    "}\n",
    "\n",
    "response = requests.get(url, params=params)\n",
    "film_data = response.json()\n",
    "print('Films : \\n', film_data)"
   ]
  },
  {
   "cell_type": "code",
   "execution_count": 17,
   "metadata": {},
   "outputs": [
    {
     "name": "stdout",
     "output_type": "stream",
     "text": [
      "Planets : \n",
      " {'count': 60, 'next': 'https://swapi.dev/api/planets/?page=2', 'previous': None, 'results': [{'name': 'Tatooine', 'rotation_period': '23', 'orbital_period': '304', 'diameter': '10465', 'climate': 'arid', 'gravity': '1 standard', 'terrain': 'desert', 'surface_water': '1', 'population': '200000', 'residents': ['https://swapi.dev/api/people/1/', 'https://swapi.dev/api/people/2/', 'https://swapi.dev/api/people/4/', 'https://swapi.dev/api/people/6/', 'https://swapi.dev/api/people/7/', 'https://swapi.dev/api/people/8/', 'https://swapi.dev/api/people/9/', 'https://swapi.dev/api/people/11/', 'https://swapi.dev/api/people/43/', 'https://swapi.dev/api/people/62/'], 'films': ['https://swapi.dev/api/films/1/', 'https://swapi.dev/api/films/3/', 'https://swapi.dev/api/films/4/', 'https://swapi.dev/api/films/5/', 'https://swapi.dev/api/films/6/'], 'created': '2014-12-09T13:50:49.641000Z', 'edited': '2014-12-20T20:58:18.411000Z', 'url': 'https://swapi.dev/api/planets/1/'}, {'name': 'Alderaan', 'rotation_period': '24', 'orbital_period': '364', 'diameter': '12500', 'climate': 'temperate', 'gravity': '1 standard', 'terrain': 'grasslands, mountains', 'surface_water': '40', 'population': '2000000000', 'residents': ['https://swapi.dev/api/people/5/', 'https://swapi.dev/api/people/68/', 'https://swapi.dev/api/people/81/'], 'films': ['https://swapi.dev/api/films/1/', 'https://swapi.dev/api/films/6/'], 'created': '2014-12-10T11:35:48.479000Z', 'edited': '2014-12-20T20:58:18.420000Z', 'url': 'https://swapi.dev/api/planets/2/'}, {'name': 'Yavin IV', 'rotation_period': '24', 'orbital_period': '4818', 'diameter': '10200', 'climate': 'temperate, tropical', 'gravity': '1 standard', 'terrain': 'jungle, rainforests', 'surface_water': '8', 'population': '1000', 'residents': [], 'films': ['https://swapi.dev/api/films/1/'], 'created': '2014-12-10T11:37:19.144000Z', 'edited': '2014-12-20T20:58:18.421000Z', 'url': 'https://swapi.dev/api/planets/3/'}, {'name': 'Hoth', 'rotation_period': '23', 'orbital_period': '549', 'diameter': '7200', 'climate': 'frozen', 'gravity': '1.1 standard', 'terrain': 'tundra, ice caves, mountain ranges', 'surface_water': '100', 'population': 'unknown', 'residents': [], 'films': ['https://swapi.dev/api/films/2/'], 'created': '2014-12-10T11:39:13.934000Z', 'edited': '2014-12-20T20:58:18.423000Z', 'url': 'https://swapi.dev/api/planets/4/'}, {'name': 'Dagobah', 'rotation_period': '23', 'orbital_period': '341', 'diameter': '8900', 'climate': 'murky', 'gravity': 'N/A', 'terrain': 'swamp, jungles', 'surface_water': '8', 'population': 'unknown', 'residents': [], 'films': ['https://swapi.dev/api/films/2/', 'https://swapi.dev/api/films/3/', 'https://swapi.dev/api/films/6/'], 'created': '2014-12-10T11:42:22.590000Z', 'edited': '2014-12-20T20:58:18.425000Z', 'url': 'https://swapi.dev/api/planets/5/'}, {'name': 'Bespin', 'rotation_period': '12', 'orbital_period': '5110', 'diameter': '118000', 'climate': 'temperate', 'gravity': '1.5 (surface), 1 standard (Cloud City)', 'terrain': 'gas giant', 'surface_water': '0', 'population': '6000000', 'residents': ['https://swapi.dev/api/people/26/'], 'films': ['https://swapi.dev/api/films/2/'], 'created': '2014-12-10T11:43:55.240000Z', 'edited': '2014-12-20T20:58:18.427000Z', 'url': 'https://swapi.dev/api/planets/6/'}, {'name': 'Endor', 'rotation_period': '18', 'orbital_period': '402', 'diameter': '4900', 'climate': 'temperate', 'gravity': '0.85 standard', 'terrain': 'forests, mountains, lakes', 'surface_water': '8', 'population': '30000000', 'residents': ['https://swapi.dev/api/people/30/'], 'films': ['https://swapi.dev/api/films/3/'], 'created': '2014-12-10T11:50:29.349000Z', 'edited': '2014-12-20T20:58:18.429000Z', 'url': 'https://swapi.dev/api/planets/7/'}, {'name': 'Naboo', 'rotation_period': '26', 'orbital_period': '312', 'diameter': '12120', 'climate': 'temperate', 'gravity': '1 standard', 'terrain': 'grassy hills, swamps, forests, mountains', 'surface_water': '12', 'population': '4500000000', 'residents': ['https://swapi.dev/api/people/3/', 'https://swapi.dev/api/people/21/', 'https://swapi.dev/api/people/35/', 'https://swapi.dev/api/people/36/', 'https://swapi.dev/api/people/37/', 'https://swapi.dev/api/people/38/', 'https://swapi.dev/api/people/39/', 'https://swapi.dev/api/people/42/', 'https://swapi.dev/api/people/60/', 'https://swapi.dev/api/people/61/', 'https://swapi.dev/api/people/66/'], 'films': ['https://swapi.dev/api/films/3/', 'https://swapi.dev/api/films/4/', 'https://swapi.dev/api/films/5/', 'https://swapi.dev/api/films/6/'], 'created': '2014-12-10T11:52:31.066000Z', 'edited': '2014-12-20T20:58:18.430000Z', 'url': 'https://swapi.dev/api/planets/8/'}, {'name': 'Coruscant', 'rotation_period': '24', 'orbital_period': '368', 'diameter': '12240', 'climate': 'temperate', 'gravity': '1 standard', 'terrain': 'cityscape, mountains', 'surface_water': 'unknown', 'population': '1000000000000', 'residents': ['https://swapi.dev/api/people/34/', 'https://swapi.dev/api/people/55/', 'https://swapi.dev/api/people/74/'], 'films': ['https://swapi.dev/api/films/3/', 'https://swapi.dev/api/films/4/', 'https://swapi.dev/api/films/5/', 'https://swapi.dev/api/films/6/'], 'created': '2014-12-10T11:54:13.921000Z', 'edited': '2014-12-20T20:58:18.432000Z', 'url': 'https://swapi.dev/api/planets/9/'}, {'name': 'Kamino', 'rotation_period': '27', 'orbital_period': '463', 'diameter': '19720', 'climate': 'temperate', 'gravity': '1 standard', 'terrain': 'ocean', 'surface_water': '100', 'population': '1000000000', 'residents': ['https://swapi.dev/api/people/22/', 'https://swapi.dev/api/people/72/', 'https://swapi.dev/api/people/73/'], 'films': ['https://swapi.dev/api/films/5/'], 'created': '2014-12-10T12:45:06.577000Z', 'edited': '2014-12-20T20:58:18.434000Z', 'url': 'https://swapi.dev/api/planets/10/'}]}\n"
     ]
    }
   ],
   "source": [
    "url = \"https://swapi.dev/api/planets/\"\n",
    "params = {\n",
    "}\n",
    "\n",
    "response = requests.get(url, params=params)\n",
    "planet_data = response.json()\n",
    "print('Planets : \\n', planet_data)"
   ]
  },
  {
   "cell_type": "code",
   "execution_count": 53,
   "metadata": {},
   "outputs": [
    {
     "name": "stdout",
     "output_type": "stream",
     "text": [
      "Species : \n",
      " {'count': 37, 'next': 'https://swapi.dev/api/species/?page=2', 'previous': None, 'results': [{'name': 'Human', 'classification': 'mammal', 'designation': 'sentient', 'average_height': '180', 'skin_colors': 'caucasian, black, asian, hispanic', 'hair_colors': 'blonde, brown, black, red', 'eye_colors': 'brown, blue, green, hazel, grey, amber', 'average_lifespan': '120', 'homeworld': 'https://swapi.dev/api/planets/9/', 'language': 'Galactic Basic', 'people': ['https://swapi.dev/api/people/66/', 'https://swapi.dev/api/people/67/', 'https://swapi.dev/api/people/68/', 'https://swapi.dev/api/people/74/'], 'films': ['https://swapi.dev/api/films/1/', 'https://swapi.dev/api/films/2/', 'https://swapi.dev/api/films/3/', 'https://swapi.dev/api/films/4/', 'https://swapi.dev/api/films/5/', 'https://swapi.dev/api/films/6/'], 'created': '2014-12-10T13:52:11.567000Z', 'edited': '2014-12-20T21:36:42.136000Z', 'url': 'https://swapi.dev/api/species/1/'}, {'name': 'Droid', 'classification': 'artificial', 'designation': 'sentient', 'average_height': 'n/a', 'skin_colors': 'n/a', 'hair_colors': 'n/a', 'eye_colors': 'n/a', 'average_lifespan': 'indefinite', 'homeworld': None, 'language': 'n/a', 'people': ['https://swapi.dev/api/people/2/', 'https://swapi.dev/api/people/3/', 'https://swapi.dev/api/people/8/', 'https://swapi.dev/api/people/23/'], 'films': ['https://swapi.dev/api/films/1/', 'https://swapi.dev/api/films/2/', 'https://swapi.dev/api/films/3/', 'https://swapi.dev/api/films/4/', 'https://swapi.dev/api/films/5/', 'https://swapi.dev/api/films/6/'], 'created': '2014-12-10T15:16:16.259000Z', 'edited': '2014-12-20T21:36:42.139000Z', 'url': 'https://swapi.dev/api/species/2/'}, {'name': 'Wookie', 'classification': 'mammal', 'designation': 'sentient', 'average_height': '210', 'skin_colors': 'gray', 'hair_colors': 'black, brown', 'eye_colors': 'blue, green, yellow, brown, golden, red', 'average_lifespan': '400', 'homeworld': 'https://swapi.dev/api/planets/14/', 'language': 'Shyriiwook', 'people': ['https://swapi.dev/api/people/13/', 'https://swapi.dev/api/people/80/'], 'films': ['https://swapi.dev/api/films/1/', 'https://swapi.dev/api/films/2/', 'https://swapi.dev/api/films/3/', 'https://swapi.dev/api/films/6/'], 'created': '2014-12-10T16:44:31.486000Z', 'edited': '2014-12-20T21:36:42.142000Z', 'url': 'https://swapi.dev/api/species/3/'}, {'name': 'Rodian', 'classification': 'sentient', 'designation': 'reptilian', 'average_height': '170', 'skin_colors': 'green, blue', 'hair_colors': 'n/a', 'eye_colors': 'black', 'average_lifespan': 'unknown', 'homeworld': 'https://swapi.dev/api/planets/23/', 'language': 'Galatic Basic', 'people': ['https://swapi.dev/api/people/15/'], 'films': ['https://swapi.dev/api/films/1/'], 'created': '2014-12-10T17:05:26.471000Z', 'edited': '2014-12-20T21:36:42.144000Z', 'url': 'https://swapi.dev/api/species/4/'}, {'name': 'Hutt', 'classification': 'gastropod', 'designation': 'sentient', 'average_height': '300', 'skin_colors': 'green, brown, tan', 'hair_colors': 'n/a', 'eye_colors': 'yellow, red', 'average_lifespan': '1000', 'homeworld': 'https://swapi.dev/api/planets/24/', 'language': 'Huttese', 'people': ['https://swapi.dev/api/people/16/'], 'films': ['https://swapi.dev/api/films/1/', 'https://swapi.dev/api/films/3/'], 'created': '2014-12-10T17:12:50.410000Z', 'edited': '2014-12-20T21:36:42.146000Z', 'url': 'https://swapi.dev/api/species/5/'}, {'name': \"Yoda's species\", 'classification': 'mammal', 'designation': 'sentient', 'average_height': '66', 'skin_colors': 'green, yellow', 'hair_colors': 'brown, white', 'eye_colors': 'brown, green, yellow', 'average_lifespan': '900', 'homeworld': 'https://swapi.dev/api/planets/28/', 'language': 'Galactic basic', 'people': ['https://swapi.dev/api/people/20/'], 'films': ['https://swapi.dev/api/films/2/', 'https://swapi.dev/api/films/3/', 'https://swapi.dev/api/films/4/', 'https://swapi.dev/api/films/5/', 'https://swapi.dev/api/films/6/'], 'created': '2014-12-15T12:27:22.877000Z', 'edited': '2014-12-20T21:36:42.148000Z', 'url': 'https://swapi.dev/api/species/6/'}, {'name': 'Trandoshan', 'classification': 'reptile', 'designation': 'sentient', 'average_height': '200', 'skin_colors': 'brown, green', 'hair_colors': 'none', 'eye_colors': 'yellow, orange', 'average_lifespan': 'unknown', 'homeworld': 'https://swapi.dev/api/planets/29/', 'language': 'Dosh', 'people': ['https://swapi.dev/api/people/24/'], 'films': ['https://swapi.dev/api/films/2/'], 'created': '2014-12-15T13:07:47.704000Z', 'edited': '2014-12-20T21:36:42.151000Z', 'url': 'https://swapi.dev/api/species/7/'}, {'name': 'Mon Calamari', 'classification': 'amphibian', 'designation': 'sentient', 'average_height': '160', 'skin_colors': 'red, blue, brown, magenta', 'hair_colors': 'none', 'eye_colors': 'yellow', 'average_lifespan': 'unknown', 'homeworld': 'https://swapi.dev/api/planets/31/', 'language': 'Mon Calamarian', 'people': ['https://swapi.dev/api/people/27/'], 'films': ['https://swapi.dev/api/films/3/'], 'created': '2014-12-18T11:09:52.263000Z', 'edited': '2014-12-20T21:36:42.153000Z', 'url': 'https://swapi.dev/api/species/8/'}, {'name': 'Ewok', 'classification': 'mammal', 'designation': 'sentient', 'average_height': '100', 'skin_colors': 'brown', 'hair_colors': 'white, brown, black', 'eye_colors': 'orange, brown', 'average_lifespan': 'unknown', 'homeworld': 'https://swapi.dev/api/planets/7/', 'language': 'Ewokese', 'people': ['https://swapi.dev/api/people/30/'], 'films': ['https://swapi.dev/api/films/3/'], 'created': '2014-12-18T11:22:00.285000Z', 'edited': '2014-12-20T21:36:42.155000Z', 'url': 'https://swapi.dev/api/species/9/'}, {'name': 'Sullustan', 'classification': 'mammal', 'designation': 'sentient', 'average_height': '180', 'skin_colors': 'pale', 'hair_colors': 'none', 'eye_colors': 'black', 'average_lifespan': 'unknown', 'homeworld': 'https://swapi.dev/api/planets/33/', 'language': 'Sullutese', 'people': ['https://swapi.dev/api/people/31/'], 'films': ['https://swapi.dev/api/films/3/'], 'created': '2014-12-18T11:26:20.103000Z', 'edited': '2014-12-20T21:36:42.157000Z', 'url': 'https://swapi.dev/api/species/10/'}]}\n"
     ]
    }
   ],
   "source": [
    "url = \"https://swapi.dev/api/species/\"\n",
    "params = {\n",
    "}\n",
    "\n",
    "response = requests.get(url, params=params)\n",
    "species_data = response.json()\n",
    "print('Species : \\n', species_data)"
   ]
  },
  {
   "cell_type": "code",
   "execution_count": 46,
   "metadata": {},
   "outputs": [
    {
     "name": "stdout",
     "output_type": "stream",
     "text": [
      "Name : Luke Skywalker\n",
      "Height : 172\n",
      "Mass : 77\n",
      "Hair Color : blond\n",
      "Skin Color : fair\n",
      "Eye Color : blue\n",
      "Birth Year : 19BBY\n",
      "Gender : male\n",
      "{'name': 'Luke Skywalker', 'height': '172', 'mass': '77', 'hair_color': 'blond', 'skin_color': 'fair', 'eye_color': 'blue', 'birth_year': '19BBY', 'gender': 'male', 'homeworld': 'https://swapi.py4e.com/api/planets/1/', 'films': ['https://swapi.py4e.com/api/films/1/', 'https://swapi.py4e.com/api/films/2/', 'https://swapi.py4e.com/api/films/3/', 'https://swapi.py4e.com/api/films/6/', 'https://swapi.py4e.com/api/films/7/'], 'species': ['https://swapi.py4e.com/api/species/1/'], 'vehicles': ['https://swapi.py4e.com/api/vehicles/14/', 'https://swapi.py4e.com/api/vehicles/30/'], 'starships': ['https://swapi.py4e.com/api/starships/12/', 'https://swapi.py4e.com/api/starships/22/'], 'created': '2014-12-09T13:50:51.644000Z', 'edited': '2014-12-20T21:17:56.891000Z', 'url': 'https://swapi.py4e.com/api/people/1/'}\n",
      "Character not found\n",
      "Name : Darth Vader\n",
      "Height : 202\n",
      "Mass : 136\n",
      "Hair Color : none\n",
      "Skin Color : white\n",
      "Eye Color : yellow\n",
      "Birth Year : 41.9BBY\n",
      "Gender : male\n",
      "{'name': 'Darth Vader', 'height': '202', 'mass': '136', 'hair_color': 'none', 'skin_color': 'white', 'eye_color': 'yellow', 'birth_year': '41.9BBY', 'gender': 'male', 'homeworld': 'https://swapi.py4e.com/api/planets/1/', 'films': ['https://swapi.py4e.com/api/films/1/', 'https://swapi.py4e.com/api/films/2/', 'https://swapi.py4e.com/api/films/3/', 'https://swapi.py4e.com/api/films/6/'], 'species': ['https://swapi.py4e.com/api/species/1/'], 'vehicles': [], 'starships': ['https://swapi.py4e.com/api/starships/13/'], 'created': '2014-12-10T15:18:20.704000Z', 'edited': '2014-12-20T21:17:50.313000Z', 'url': 'https://swapi.py4e.com/api/people/4/'}\n"
     ]
    }
   ],
   "source": [
    "def search_character(name):\n",
    "    url = f\"https://swapi.py4e.com/api/people/?search={name}\"\n",
    "    response = requests.get(url)\n",
    "    data = response.json()\n",
    "    if data['count'] > 0:\n",
    "        print('Name :', data['results'][0]['name'])\n",
    "        print('Height :', data['results'][0]['height'])\n",
    "        print('Mass :', data['results'][0]['mass'])\n",
    "        print('Hair Color :', data['results'][0]['hair_color'])\n",
    "        print('Skin Color :', data['results'][0]['skin_color'])\n",
    "        print('Eye Color :', data['results'][0]['eye_color'])\n",
    "        print('Birth Year :', data['results'][0]['birth_year'])\n",
    "        print('Gender :', data['results'][0]['gender'])\n",
    "        return data['results'][0]\n",
    "    else:\n",
    "        return \"Character not found\"\n",
    "\n",
    "# unit tests\n",
    "character = search_character('Luke Skywalker')\n",
    "print(character)\n",
    "assert character['birth_year'] == '19BBY'\n",
    "\n",
    "character = search_character('Homer Simpson')\n",
    "print(character)\n",
    "assert character == \"Character not found\"\n",
    "\n",
    "character = search_character('Darth Vader')\n",
    "print(character)\n",
    "assert character['eye_color'] == 'yellow'"
   ]
  },
  {
   "cell_type": "markdown",
   "metadata": {},
   "source": [
    "--------------------------"
   ]
  },
  {
   "cell_type": "code",
   "execution_count": 124,
   "metadata": {},
   "outputs": [
    {
     "name": "stderr",
     "output_type": "stream",
     "text": [
      "C:\\Users\\romdu\\AppData\\Local\\Temp\\ipykernel_6932\\3777468119.py:25: FutureWarning: ChainedAssignmentError: behaviour will change in pandas 3.0!\n",
      "You are setting values through chained assignment. Currently this works in certain cases, but when using Copy-on-Write (which will become the default behaviour in pandas 3.0) this will never work to update the original DataFrame or Series, because the intermediate object on which we are setting values will behave as a copy.\n",
      "A typical example is when you are setting values in a column of a DataFrame, like:\n",
      "\n",
      "df[\"col\"][row_indexer] = value\n",
      "\n",
      "Use `df.loc[row_indexer, \"col\"] = values` instead, to perform the assignment in a single step and ensure this keeps updating the original `df`.\n",
      "\n",
      "See the caveats in the documentation: https://pandas.pydata.org/pandas-docs/stable/user_guide/indexing.html#returning-a-view-versus-a-copy\n",
      "\n",
      "  df['species'][i] = species_data['name']\n",
      "C:\\Users\\romdu\\AppData\\Local\\Temp\\ipykernel_6932\\3777468119.py:27: FutureWarning: ChainedAssignmentError: behaviour will change in pandas 3.0!\n",
      "You are setting values through chained assignment. Currently this works in certain cases, but when using Copy-on-Write (which will become the default behaviour in pandas 3.0) this will never work to update the original DataFrame or Series, because the intermediate object on which we are setting values will behave as a copy.\n",
      "A typical example is when you are setting values in a column of a DataFrame, like:\n",
      "\n",
      "df[\"col\"][row_indexer] = value\n",
      "\n",
      "Use `df.loc[row_indexer, \"col\"] = values` instead, to perform the assignment in a single step and ensure this keeps updating the original `df`.\n",
      "\n",
      "See the caveats in the documentation: https://pandas.pydata.org/pandas-docs/stable/user_guide/indexing.html#returning-a-view-versus-a-copy\n",
      "\n",
      "  df['species'][i] = 'Unknown'\n"
     ]
    },
    {
     "name": "stdout",
     "output_type": "stream",
     "text": [
      "species\n",
      "Droid       3\n",
      "Human      11\n",
      "Hutt        1\n",
      "Rodian      1\n",
      "Unknown     1\n",
      "Wookiee     1\n",
      "dtype: int64\n"
     ]
    }
   ],
   "source": [
    "# Step 6\n",
    "import pandas as pd\n",
    "\n",
    "def get_characters(film):\n",
    "    url = f\"https://swapi.py4e.com/api/films/?search={film}\"\n",
    "    response = requests.get(url)\n",
    "    data = response.json()\n",
    "    characters = data['results'][0]['characters']\n",
    "    characters_data = []\n",
    "    for character in characters:\n",
    "        response = requests.get(character)\n",
    "        characters_data.append(response.json())\n",
    "    return characters_data\n",
    "\n",
    "characters = get_characters('A New Hope')\n",
    "df = pd.DataFrame(characters)\n",
    "\n",
    "df = df[['species'] + [col for col in df.columns if col != 'species']]\n",
    "\n",
    "for i in range(len(df)):\n",
    "    if len(df['species'][i]) > 0:\n",
    "        species_url = df['species'][i][0]\n",
    "        response = requests.get(species_url)\n",
    "        species_data = response.json()\n",
    "        df['species'][i] = species_data['name']\n",
    "    else:\n",
    "        df['species'][i] = 'Unknown'\n",
    "\n",
    "print(df.groupby('species').size())"
   ]
  },
  {
   "cell_type": "code",
   "execution_count": null,
   "metadata": {},
   "outputs": [
    {
     "name": "stdout",
     "output_type": "stream",
     "text": [
      "                     title  characters_count\n",
      "4     Attack of the Clones                40\n",
      "3       The Phantom Menace                34\n",
      "5      Revenge of the Sith                34\n",
      "2       Return of the Jedi                20\n",
      "0               A New Hope                18\n",
      "1  The Empire Strikes Back                16\n"
     ]
    }
   ],
   "source": [
    "# Step 7\n",
    "\n",
    "url = \"https://swapi.dev/api/films/\"\n",
    "params = {\n",
    "}\n",
    "\n",
    "def get_films():\n",
    "    response = requests.get(url, params=params)\n",
    "    film_data = response.json()\n",
    "    return film_data\n",
    "\n",
    "films = get_films()\n",
    "df = pd.DataFrame(films['results'])\n",
    "df = df[['title', 'characters']]\n",
    "df['characters_count'] = df['characters'].apply(lambda x: len(x))\n",
    "df = df.sort_values(by='characters_count', ascending=False)\n",
    "print(df[['title', 'characters_count']])\n"
   ]
  },
  {
   "cell_type": "markdown",
   "metadata": {},
   "source": [
    "# Exploring GraphQL APIs"
   ]
  },
  {
   "cell_type": "markdown",
   "metadata": {},
   "source": [
    "Usefull links:\n",
    "- https://graphql.org/learn/queries/\n",
    "- https://graphql-demo.mead.io/\n",
    "\n",
    "Use this graphQL API to make complex requests on Star Wars world:\n",
    "- https://swapi-graphql.netlify.app/"
   ]
  },
  {
   "cell_type": "markdown",
   "metadata": {},
   "source": [
    "On the below cell you have a simple graphQL query."
   ]
  },
  {
   "cell_type": "markdown",
   "metadata": {},
   "source": [
    "# Exploring Star Wars Data with GraphQL\n",
    "\n",
    "### Introduction \n",
    "\n",
    "In this exercice you will retrieve the previous results in another way, by consuming the GraphQL API of SWAPI.\n",
    "\n",
    "### Few elements to remember about the GraphQL Protocol\n",
    "\n",
    "GraphQL is a powerful query language for APIs that provides a more efficient and flexible alternative to traditional REST APIs. In this exercise, we will interact with the Star Wars API (SWAPI) using GraphQL to retrieve specific information about characters, films, and species from the Star Wars universe. Some important aspects are:\n",
    "\n",
    "- **Single Endpoint:** GraphQL APIs typically have a single endpoint for all queries, making it more straightforward to manage and interact with.\n",
    "\n",
    "- **Flexible Responses:** Clients receive exactly the data they request, reducing over-fetching of data common in traditional REST APIs.\n",
    "\n",
    "- **Introspection:** GraphQL supports introspection, allowing clients to query the schema itself, making it self-documenting and aiding in development.\n",
    "\n",
    "### Key Concepts in GraphQL:\n",
    "\n",
    "- **GraphQL Schema:** GraphQL APIs have a schema that defines the types of data available and the relationships between them.\n",
    "\n",
    "- **Queries:** In GraphQL, clients specify the exact data they need using queries, allowing for more efficient data retrieval.\n",
    "\n",
    "- **Fields and Nested Structures:** Queries can include specific fields, and GraphQL supports nested structures to retrieve related data in a single request.\n",
    "\n",
    "\n",
    "### Objective\n",
    "\n",
    "- **Step 1: Introduction:** Understand the REST API Query. You can use the playground for this : https://swapi-graphql.netlify.app/?query=%7B%0A%20%20allFilms%20%7B%0A%20%20%20%20edges%20%7B%0A%20%20%20%20%20%20node%20%7B%0A%20%20%20%20%20%20%20%20id%2C%0A%20%20%20%20%20%20%20%20title%0A%20%20%20%20%20%20%7D%0A%20%20%20%20%7D%0A%20%20%7D%0A%7D\n",
    "\n",
    "- **Step 2: Retrieve Films with Character Information:** Retrieve Films with Character Information in a single query.\n",
    "\n",
    "\n",
    "### Documentation link :\n",
    "\n",
    "- https://swapi.dev/documentation"
   ]
  },
  {
   "cell_type": "code",
   "execution_count": 110,
   "metadata": {},
   "outputs": [
    {
     "name": "stdout",
     "output_type": "stream",
     "text": [
      "response status code:  200\n",
      "response :  {'data': {'allFilms': {'edges': [{'node': {'id': 'ZmlsbXM6MQ==', 'title': 'A New Hope', 'characterConnection': {'characters': [{'name': 'Luke Skywalker', 'height': 172, 'mass': 77, 'hairColor': 'blond', 'skinColor': 'fair', 'eyeColor': 'blue'}, {'name': 'C-3PO', 'height': 167, 'mass': 75, 'hairColor': 'n/a', 'skinColor': 'gold', 'eyeColor': 'yellow'}, {'name': 'R2-D2', 'height': 96, 'mass': 32, 'hairColor': 'n/a', 'skinColor': 'white, blue', 'eyeColor': 'red'}, {'name': 'Darth Vader', 'height': 202, 'mass': 136, 'hairColor': 'none', 'skinColor': 'white', 'eyeColor': 'yellow'}, {'name': 'Leia Organa', 'height': 150, 'mass': 49, 'hairColor': 'brown', 'skinColor': 'light', 'eyeColor': 'brown'}, {'name': 'Owen Lars', 'height': 178, 'mass': 120, 'hairColor': 'brown, grey', 'skinColor': 'light', 'eyeColor': 'blue'}, {'name': 'Beru Whitesun lars', 'height': 165, 'mass': 75, 'hairColor': 'brown', 'skinColor': 'light', 'eyeColor': 'blue'}, {'name': 'R5-D4', 'height': 97, 'mass': 32, 'hairColor': 'n/a', 'skinColor': 'white, red', 'eyeColor': 'red'}, {'name': 'Biggs Darklighter', 'height': 183, 'mass': 84, 'hairColor': 'black', 'skinColor': 'light', 'eyeColor': 'brown'}, {'name': 'Obi-Wan Kenobi', 'height': 182, 'mass': 77, 'hairColor': 'auburn, white', 'skinColor': 'fair', 'eyeColor': 'blue-gray'}, {'name': 'Wilhuff Tarkin', 'height': 180, 'mass': None, 'hairColor': 'auburn, grey', 'skinColor': 'fair', 'eyeColor': 'blue'}, {'name': 'Chewbacca', 'height': 228, 'mass': 112, 'hairColor': 'brown', 'skinColor': 'unknown', 'eyeColor': 'blue'}, {'name': 'Han Solo', 'height': 180, 'mass': 80, 'hairColor': 'brown', 'skinColor': 'fair', 'eyeColor': 'brown'}, {'name': 'Greedo', 'height': 173, 'mass': 74, 'hairColor': 'n/a', 'skinColor': 'green', 'eyeColor': 'black'}, {'name': 'Jabba Desilijic Tiure', 'height': 175, 'mass': 1358, 'hairColor': 'n/a', 'skinColor': 'green-tan, brown', 'eyeColor': 'orange'}, {'name': 'Wedge Antilles', 'height': 170, 'mass': 77, 'hairColor': 'brown', 'skinColor': 'fair', 'eyeColor': 'hazel'}, {'name': 'Jek Tono Porkins', 'height': 180, 'mass': 110, 'hairColor': 'brown', 'skinColor': 'fair', 'eyeColor': 'blue'}, {'name': 'Raymus Antilles', 'height': 188, 'mass': 79, 'hairColor': 'brown', 'skinColor': 'light', 'eyeColor': 'brown'}]}}}, {'node': {'id': 'ZmlsbXM6Mg==', 'title': 'The Empire Strikes Back', 'characterConnection': {'characters': [{'name': 'Luke Skywalker', 'height': 172, 'mass': 77, 'hairColor': 'blond', 'skinColor': 'fair', 'eyeColor': 'blue'}, {'name': 'C-3PO', 'height': 167, 'mass': 75, 'hairColor': 'n/a', 'skinColor': 'gold', 'eyeColor': 'yellow'}, {'name': 'R2-D2', 'height': 96, 'mass': 32, 'hairColor': 'n/a', 'skinColor': 'white, blue', 'eyeColor': 'red'}, {'name': 'Darth Vader', 'height': 202, 'mass': 136, 'hairColor': 'none', 'skinColor': 'white', 'eyeColor': 'yellow'}, {'name': 'Leia Organa', 'height': 150, 'mass': 49, 'hairColor': 'brown', 'skinColor': 'light', 'eyeColor': 'brown'}, {'name': 'Obi-Wan Kenobi', 'height': 182, 'mass': 77, 'hairColor': 'auburn, white', 'skinColor': 'fair', 'eyeColor': 'blue-gray'}, {'name': 'Chewbacca', 'height': 228, 'mass': 112, 'hairColor': 'brown', 'skinColor': 'unknown', 'eyeColor': 'blue'}, {'name': 'Han Solo', 'height': 180, 'mass': 80, 'hairColor': 'brown', 'skinColor': 'fair', 'eyeColor': 'brown'}, {'name': 'Wedge Antilles', 'height': 170, 'mass': 77, 'hairColor': 'brown', 'skinColor': 'fair', 'eyeColor': 'hazel'}, {'name': 'Yoda', 'height': 66, 'mass': 17, 'hairColor': 'white', 'skinColor': 'green', 'eyeColor': 'brown'}, {'name': 'Palpatine', 'height': 170, 'mass': 75, 'hairColor': 'grey', 'skinColor': 'pale', 'eyeColor': 'yellow'}, {'name': 'Boba Fett', 'height': 183, 'mass': 78.2, 'hairColor': 'black', 'skinColor': 'fair', 'eyeColor': 'brown'}, {'name': 'IG-88', 'height': 200, 'mass': 140, 'hairColor': 'none', 'skinColor': 'metal', 'eyeColor': 'red'}, {'name': 'Bossk', 'height': 190, 'mass': 113, 'hairColor': 'none', 'skinColor': 'green', 'eyeColor': 'red'}, {'name': 'Lando Calrissian', 'height': 177, 'mass': 79, 'hairColor': 'black', 'skinColor': 'dark', 'eyeColor': 'brown'}, {'name': 'Lobot', 'height': 175, 'mass': 79, 'hairColor': 'none', 'skinColor': 'light', 'eyeColor': 'blue'}]}}}, {'node': {'id': 'ZmlsbXM6Mw==', 'title': 'Return of the Jedi', 'characterConnection': {'characters': [{'name': 'Luke Skywalker', 'height': 172, 'mass': 77, 'hairColor': 'blond', 'skinColor': 'fair', 'eyeColor': 'blue'}, {'name': 'C-3PO', 'height': 167, 'mass': 75, 'hairColor': 'n/a', 'skinColor': 'gold', 'eyeColor': 'yellow'}, {'name': 'R2-D2', 'height': 96, 'mass': 32, 'hairColor': 'n/a', 'skinColor': 'white, blue', 'eyeColor': 'red'}, {'name': 'Darth Vader', 'height': 202, 'mass': 136, 'hairColor': 'none', 'skinColor': 'white', 'eyeColor': 'yellow'}, {'name': 'Leia Organa', 'height': 150, 'mass': 49, 'hairColor': 'brown', 'skinColor': 'light', 'eyeColor': 'brown'}, {'name': 'Obi-Wan Kenobi', 'height': 182, 'mass': 77, 'hairColor': 'auburn, white', 'skinColor': 'fair', 'eyeColor': 'blue-gray'}, {'name': 'Chewbacca', 'height': 228, 'mass': 112, 'hairColor': 'brown', 'skinColor': 'unknown', 'eyeColor': 'blue'}, {'name': 'Han Solo', 'height': 180, 'mass': 80, 'hairColor': 'brown', 'skinColor': 'fair', 'eyeColor': 'brown'}, {'name': 'Jabba Desilijic Tiure', 'height': 175, 'mass': 1358, 'hairColor': 'n/a', 'skinColor': 'green-tan, brown', 'eyeColor': 'orange'}, {'name': 'Wedge Antilles', 'height': 170, 'mass': 77, 'hairColor': 'brown', 'skinColor': 'fair', 'eyeColor': 'hazel'}, {'name': 'Yoda', 'height': 66, 'mass': 17, 'hairColor': 'white', 'skinColor': 'green', 'eyeColor': 'brown'}, {'name': 'Palpatine', 'height': 170, 'mass': 75, 'hairColor': 'grey', 'skinColor': 'pale', 'eyeColor': 'yellow'}, {'name': 'Boba Fett', 'height': 183, 'mass': 78.2, 'hairColor': 'black', 'skinColor': 'fair', 'eyeColor': 'brown'}, {'name': 'Lando Calrissian', 'height': 177, 'mass': 79, 'hairColor': 'black', 'skinColor': 'dark', 'eyeColor': 'brown'}, {'name': 'Ackbar', 'height': 180, 'mass': 83, 'hairColor': 'none', 'skinColor': 'brown mottle', 'eyeColor': 'orange'}, {'name': 'Mon Mothma', 'height': 150, 'mass': None, 'hairColor': 'auburn', 'skinColor': 'fair', 'eyeColor': 'blue'}, {'name': 'Arvel Crynyd', 'height': None, 'mass': None, 'hairColor': 'brown', 'skinColor': 'fair', 'eyeColor': 'brown'}, {'name': 'Wicket Systri Warrick', 'height': 88, 'mass': 20, 'hairColor': 'brown', 'skinColor': 'brown', 'eyeColor': 'brown'}, {'name': 'Nien Nunb', 'height': 160, 'mass': 68, 'hairColor': 'none', 'skinColor': 'grey', 'eyeColor': 'black'}, {'name': 'Bib Fortuna', 'height': 180, 'mass': None, 'hairColor': 'none', 'skinColor': 'pale', 'eyeColor': 'pink'}]}}}, {'node': {'id': 'ZmlsbXM6NA==', 'title': 'The Phantom Menace', 'characterConnection': {'characters': [{'name': 'C-3PO', 'height': 167, 'mass': 75, 'hairColor': 'n/a', 'skinColor': 'gold', 'eyeColor': 'yellow'}, {'name': 'R2-D2', 'height': 96, 'mass': 32, 'hairColor': 'n/a', 'skinColor': 'white, blue', 'eyeColor': 'red'}, {'name': 'Obi-Wan Kenobi', 'height': 182, 'mass': 77, 'hairColor': 'auburn, white', 'skinColor': 'fair', 'eyeColor': 'blue-gray'}, {'name': 'Anakin Skywalker', 'height': 188, 'mass': 84, 'hairColor': 'blond', 'skinColor': 'fair', 'eyeColor': 'blue'}, {'name': 'Jabba Desilijic Tiure', 'height': 175, 'mass': 1358, 'hairColor': 'n/a', 'skinColor': 'green-tan, brown', 'eyeColor': 'orange'}, {'name': 'Yoda', 'height': 66, 'mass': 17, 'hairColor': 'white', 'skinColor': 'green', 'eyeColor': 'brown'}, {'name': 'Palpatine', 'height': 170, 'mass': 75, 'hairColor': 'grey', 'skinColor': 'pale', 'eyeColor': 'yellow'}, {'name': 'Qui-Gon Jinn', 'height': 193, 'mass': 89, 'hairColor': 'brown', 'skinColor': 'fair', 'eyeColor': 'blue'}, {'name': 'Nute Gunray', 'height': 191, 'mass': 90, 'hairColor': 'none', 'skinColor': 'mottled green', 'eyeColor': 'red'}, {'name': 'Finis Valorum', 'height': 170, 'mass': None, 'hairColor': 'blond', 'skinColor': 'fair', 'eyeColor': 'blue'}, {'name': 'Padmé Amidala', 'height': 185, 'mass': 45, 'hairColor': 'brown', 'skinColor': 'light', 'eyeColor': 'brown'}, {'name': 'Jar Jar Binks', 'height': 196, 'mass': 66, 'hairColor': 'none', 'skinColor': 'orange', 'eyeColor': 'orange'}, {'name': 'Roos Tarpals', 'height': 224, 'mass': 82, 'hairColor': 'none', 'skinColor': 'grey', 'eyeColor': 'orange'}, {'name': 'Rugor Nass', 'height': 206, 'mass': None, 'hairColor': 'none', 'skinColor': 'green', 'eyeColor': 'orange'}, {'name': 'Ric Olié', 'height': 183, 'mass': None, 'hairColor': 'brown', 'skinColor': 'fair', 'eyeColor': 'blue'}, {'name': 'Watto', 'height': 137, 'mass': None, 'hairColor': 'black', 'skinColor': 'blue, grey', 'eyeColor': 'yellow'}, {'name': 'Sebulba', 'height': 112, 'mass': 40, 'hairColor': 'none', 'skinColor': 'grey, red', 'eyeColor': 'orange'}, {'name': 'Quarsh Panaka', 'height': 183, 'mass': None, 'hairColor': 'black', 'skinColor': 'dark', 'eyeColor': 'brown'}, {'name': 'Shmi Skywalker', 'height': 163, 'mass': None, 'hairColor': 'black', 'skinColor': 'fair', 'eyeColor': 'brown'}, {'name': 'Darth Maul', 'height': 175, 'mass': 80, 'hairColor': 'none', 'skinColor': 'red', 'eyeColor': 'yellow'}, {'name': 'Ayla Secura', 'height': 178, 'mass': 55, 'hairColor': 'none', 'skinColor': 'blue', 'eyeColor': 'hazel'}, {'name': 'Ratts Tyerel', 'height': 79, 'mass': 15, 'hairColor': 'none', 'skinColor': 'grey, blue', 'eyeColor': 'unknown'}, {'name': 'Dud Bolt', 'height': 94, 'mass': 45, 'hairColor': 'none', 'skinColor': 'blue, grey', 'eyeColor': 'yellow'}, {'name': 'Gasgano', 'height': 122, 'mass': None, 'hairColor': 'none', 'skinColor': 'white, blue', 'eyeColor': 'black'}, {'name': 'Ben Quadinaros', 'height': 163, 'mass': 65, 'hairColor': 'none', 'skinColor': 'grey, green, yellow', 'eyeColor': 'orange'}, {'name': 'Mace Windu', 'height': 188, 'mass': 84, 'hairColor': 'none', 'skinColor': 'dark', 'eyeColor': 'brown'}, {'name': 'Ki-Adi-Mundi', 'height': 198, 'mass': 82, 'hairColor': 'white', 'skinColor': 'pale', 'eyeColor': 'yellow'}, {'name': 'Kit Fisto', 'height': 196, 'mass': 87, 'hairColor': 'none', 'skinColor': 'green', 'eyeColor': 'black'}, {'name': 'Eeth Koth', 'height': 171, 'mass': None, 'hairColor': 'black', 'skinColor': 'brown', 'eyeColor': 'brown'}, {'name': 'Adi Gallia', 'height': 184, 'mass': 50, 'hairColor': 'none', 'skinColor': 'dark', 'eyeColor': 'blue'}, {'name': 'Saesee Tiin', 'height': 188, 'mass': None, 'hairColor': 'none', 'skinColor': 'pale', 'eyeColor': 'orange'}, {'name': 'Yarael Poof', 'height': 264, 'mass': None, 'hairColor': 'none', 'skinColor': 'white', 'eyeColor': 'yellow'}, {'name': 'Plo Koon', 'height': 188, 'mass': 80, 'hairColor': 'none', 'skinColor': 'orange', 'eyeColor': 'black'}, {'name': 'Mas Amedda', 'height': 196, 'mass': None, 'hairColor': 'none', 'skinColor': 'blue', 'eyeColor': 'blue'}]}}}, {'node': {'id': 'ZmlsbXM6NQ==', 'title': 'Attack of the Clones', 'characterConnection': {'characters': [{'name': 'C-3PO', 'height': 167, 'mass': 75, 'hairColor': 'n/a', 'skinColor': 'gold', 'eyeColor': 'yellow'}, {'name': 'R2-D2', 'height': 96, 'mass': 32, 'hairColor': 'n/a', 'skinColor': 'white, blue', 'eyeColor': 'red'}, {'name': 'Owen Lars', 'height': 178, 'mass': 120, 'hairColor': 'brown, grey', 'skinColor': 'light', 'eyeColor': 'blue'}, {'name': 'Beru Whitesun lars', 'height': 165, 'mass': 75, 'hairColor': 'brown', 'skinColor': 'light', 'eyeColor': 'blue'}, {'name': 'Obi-Wan Kenobi', 'height': 182, 'mass': 77, 'hairColor': 'auburn, white', 'skinColor': 'fair', 'eyeColor': 'blue-gray'}, {'name': 'Anakin Skywalker', 'height': 188, 'mass': 84, 'hairColor': 'blond', 'skinColor': 'fair', 'eyeColor': 'blue'}, {'name': 'Yoda', 'height': 66, 'mass': 17, 'hairColor': 'white', 'skinColor': 'green', 'eyeColor': 'brown'}, {'name': 'Palpatine', 'height': 170, 'mass': 75, 'hairColor': 'grey', 'skinColor': 'pale', 'eyeColor': 'yellow'}, {'name': 'Boba Fett', 'height': 183, 'mass': 78.2, 'hairColor': 'black', 'skinColor': 'fair', 'eyeColor': 'brown'}, {'name': 'Nute Gunray', 'height': 191, 'mass': 90, 'hairColor': 'none', 'skinColor': 'mottled green', 'eyeColor': 'red'}, {'name': 'Padmé Amidala', 'height': 185, 'mass': 45, 'hairColor': 'brown', 'skinColor': 'light', 'eyeColor': 'brown'}, {'name': 'Jar Jar Binks', 'height': 196, 'mass': 66, 'hairColor': 'none', 'skinColor': 'orange', 'eyeColor': 'orange'}, {'name': 'Watto', 'height': 137, 'mass': None, 'hairColor': 'black', 'skinColor': 'blue, grey', 'eyeColor': 'yellow'}, {'name': 'Shmi Skywalker', 'height': 163, 'mass': None, 'hairColor': 'black', 'skinColor': 'fair', 'eyeColor': 'brown'}, {'name': 'Ayla Secura', 'height': 178, 'mass': 55, 'hairColor': 'none', 'skinColor': 'blue', 'eyeColor': 'hazel'}, {'name': 'Mace Windu', 'height': 188, 'mass': 84, 'hairColor': 'none', 'skinColor': 'dark', 'eyeColor': 'brown'}, {'name': 'Ki-Adi-Mundi', 'height': 198, 'mass': 82, 'hairColor': 'white', 'skinColor': 'pale', 'eyeColor': 'yellow'}, {'name': 'Kit Fisto', 'height': 196, 'mass': 87, 'hairColor': 'none', 'skinColor': 'green', 'eyeColor': 'black'}, {'name': 'Plo Koon', 'height': 188, 'mass': 80, 'hairColor': 'none', 'skinColor': 'orange', 'eyeColor': 'black'}, {'name': 'Mas Amedda', 'height': 196, 'mass': None, 'hairColor': 'none', 'skinColor': 'blue', 'eyeColor': 'blue'}, {'name': 'Gregar Typho', 'height': 185, 'mass': 85, 'hairColor': 'black', 'skinColor': 'dark', 'eyeColor': 'brown'}, {'name': 'Cordé', 'height': 157, 'mass': None, 'hairColor': 'brown', 'skinColor': 'light', 'eyeColor': 'brown'}, {'name': 'Cliegg Lars', 'height': 183, 'mass': None, 'hairColor': 'brown', 'skinColor': 'fair', 'eyeColor': 'blue'}, {'name': 'Poggle the Lesser', 'height': 183, 'mass': 80, 'hairColor': 'none', 'skinColor': 'green', 'eyeColor': 'yellow'}, {'name': 'Luminara Unduli', 'height': 170, 'mass': 56.2, 'hairColor': 'black', 'skinColor': 'yellow', 'eyeColor': 'blue'}, {'name': 'Barriss Offee', 'height': 166, 'mass': 50, 'hairColor': 'black', 'skinColor': 'yellow', 'eyeColor': 'blue'}, {'name': 'Dormé', 'height': 165, 'mass': None, 'hairColor': 'brown', 'skinColor': 'light', 'eyeColor': 'brown'}, {'name': 'Dooku', 'height': 193, 'mass': 80, 'hairColor': 'white', 'skinColor': 'fair', 'eyeColor': 'brown'}, {'name': 'Bail Prestor Organa', 'height': 191, 'mass': None, 'hairColor': 'black', 'skinColor': 'tan', 'eyeColor': 'brown'}, {'name': 'Jango Fett', 'height': 183, 'mass': 79, 'hairColor': 'black', 'skinColor': 'tan', 'eyeColor': 'brown'}, {'name': 'Zam Wesell', 'height': 168, 'mass': 55, 'hairColor': 'blonde', 'skinColor': 'fair, green, yellow', 'eyeColor': 'yellow'}, {'name': 'Dexter Jettster', 'height': 198, 'mass': 102, 'hairColor': 'none', 'skinColor': 'brown', 'eyeColor': 'yellow'}, {'name': 'Lama Su', 'height': 229, 'mass': 88, 'hairColor': 'none', 'skinColor': 'grey', 'eyeColor': 'black'}, {'name': 'Taun We', 'height': 213, 'mass': None, 'hairColor': 'none', 'skinColor': 'grey', 'eyeColor': 'black'}, {'name': 'Jocasta Nu', 'height': 167, 'mass': None, 'hairColor': 'white', 'skinColor': 'fair', 'eyeColor': 'blue'}, {'name': 'R4-P17', 'height': 96, 'mass': None, 'hairColor': 'none', 'skinColor': 'silver, red', 'eyeColor': 'red, blue'}, {'name': 'Wat Tambor', 'height': 193, 'mass': 48, 'hairColor': 'none', 'skinColor': 'green, grey', 'eyeColor': 'unknown'}, {'name': 'San Hill', 'height': 191, 'mass': None, 'hairColor': 'none', 'skinColor': 'grey', 'eyeColor': 'gold'}, {'name': 'Shaak Ti', 'height': 178, 'mass': 57, 'hairColor': 'none', 'skinColor': 'red, blue, white', 'eyeColor': 'black'}, {'name': 'Sly Moore', 'height': 178, 'mass': 48, 'hairColor': 'none', 'skinColor': 'pale', 'eyeColor': 'white'}]}}}, {'node': {'id': 'ZmlsbXM6Ng==', 'title': 'Revenge of the Sith', 'characterConnection': {'characters': [{'name': 'Luke Skywalker', 'height': 172, 'mass': 77, 'hairColor': 'blond', 'skinColor': 'fair', 'eyeColor': 'blue'}, {'name': 'C-3PO', 'height': 167, 'mass': 75, 'hairColor': 'n/a', 'skinColor': 'gold', 'eyeColor': 'yellow'}, {'name': 'R2-D2', 'height': 96, 'mass': 32, 'hairColor': 'n/a', 'skinColor': 'white, blue', 'eyeColor': 'red'}, {'name': 'Darth Vader', 'height': 202, 'mass': 136, 'hairColor': 'none', 'skinColor': 'white', 'eyeColor': 'yellow'}, {'name': 'Leia Organa', 'height': 150, 'mass': 49, 'hairColor': 'brown', 'skinColor': 'light', 'eyeColor': 'brown'}, {'name': 'Owen Lars', 'height': 178, 'mass': 120, 'hairColor': 'brown, grey', 'skinColor': 'light', 'eyeColor': 'blue'}, {'name': 'Beru Whitesun lars', 'height': 165, 'mass': 75, 'hairColor': 'brown', 'skinColor': 'light', 'eyeColor': 'blue'}, {'name': 'Obi-Wan Kenobi', 'height': 182, 'mass': 77, 'hairColor': 'auburn, white', 'skinColor': 'fair', 'eyeColor': 'blue-gray'}, {'name': 'Anakin Skywalker', 'height': 188, 'mass': 84, 'hairColor': 'blond', 'skinColor': 'fair', 'eyeColor': 'blue'}, {'name': 'Wilhuff Tarkin', 'height': 180, 'mass': None, 'hairColor': 'auburn, grey', 'skinColor': 'fair', 'eyeColor': 'blue'}, {'name': 'Chewbacca', 'height': 228, 'mass': 112, 'hairColor': 'brown', 'skinColor': 'unknown', 'eyeColor': 'blue'}, {'name': 'Yoda', 'height': 66, 'mass': 17, 'hairColor': 'white', 'skinColor': 'green', 'eyeColor': 'brown'}, {'name': 'Palpatine', 'height': 170, 'mass': 75, 'hairColor': 'grey', 'skinColor': 'pale', 'eyeColor': 'yellow'}, {'name': 'Nute Gunray', 'height': 191, 'mass': 90, 'hairColor': 'none', 'skinColor': 'mottled green', 'eyeColor': 'red'}, {'name': 'Padmé Amidala', 'height': 185, 'mass': 45, 'hairColor': 'brown', 'skinColor': 'light', 'eyeColor': 'brown'}, {'name': 'Ayla Secura', 'height': 178, 'mass': 55, 'hairColor': 'none', 'skinColor': 'blue', 'eyeColor': 'hazel'}, {'name': 'Mace Windu', 'height': 188, 'mass': 84, 'hairColor': 'none', 'skinColor': 'dark', 'eyeColor': 'brown'}, {'name': 'Ki-Adi-Mundi', 'height': 198, 'mass': 82, 'hairColor': 'white', 'skinColor': 'pale', 'eyeColor': 'yellow'}, {'name': 'Kit Fisto', 'height': 196, 'mass': 87, 'hairColor': 'none', 'skinColor': 'green', 'eyeColor': 'black'}, {'name': 'Eeth Koth', 'height': 171, 'mass': None, 'hairColor': 'black', 'skinColor': 'brown', 'eyeColor': 'brown'}, {'name': 'Adi Gallia', 'height': 184, 'mass': 50, 'hairColor': 'none', 'skinColor': 'dark', 'eyeColor': 'blue'}, {'name': 'Saesee Tiin', 'height': 188, 'mass': None, 'hairColor': 'none', 'skinColor': 'pale', 'eyeColor': 'orange'}, {'name': 'Plo Koon', 'height': 188, 'mass': 80, 'hairColor': 'none', 'skinColor': 'orange', 'eyeColor': 'black'}, {'name': 'Poggle the Lesser', 'height': 183, 'mass': 80, 'hairColor': 'none', 'skinColor': 'green', 'eyeColor': 'yellow'}, {'name': 'Luminara Unduli', 'height': 170, 'mass': 56.2, 'hairColor': 'black', 'skinColor': 'yellow', 'eyeColor': 'blue'}, {'name': 'Dooku', 'height': 193, 'mass': 80, 'hairColor': 'white', 'skinColor': 'fair', 'eyeColor': 'brown'}, {'name': 'Bail Prestor Organa', 'height': 191, 'mass': None, 'hairColor': 'black', 'skinColor': 'tan', 'eyeColor': 'brown'}, {'name': 'R4-P17', 'height': 96, 'mass': None, 'hairColor': 'none', 'skinColor': 'silver, red', 'eyeColor': 'red, blue'}, {'name': 'Shaak Ti', 'height': 178, 'mass': 57, 'hairColor': 'none', 'skinColor': 'red, blue, white', 'eyeColor': 'black'}, {'name': 'Grievous', 'height': 216, 'mass': 159, 'hairColor': 'none', 'skinColor': 'brown, white', 'eyeColor': 'green, yellow'}, {'name': 'Tarfful', 'height': 234, 'mass': 136, 'hairColor': 'brown', 'skinColor': 'brown', 'eyeColor': 'blue'}, {'name': 'Raymus Antilles', 'height': 188, 'mass': 79, 'hairColor': 'brown', 'skinColor': 'light', 'eyeColor': 'brown'}, {'name': 'Sly Moore', 'height': 178, 'mass': 48, 'hairColor': 'none', 'skinColor': 'pale', 'eyeColor': 'white'}, {'name': 'Tion Medon', 'height': 206, 'mass': 80, 'hairColor': 'none', 'skinColor': 'grey', 'eyeColor': 'black'}]}}}]}}}\n"
     ]
    }
   ],
   "source": [
    "import requests\n",
    "\n",
    "url = \"https://swapi-graphql.netlify.app/.netlify/functions/index\"\n",
    "body = \"\"\"\n",
    "query{\n",
    "  allFilms {\n",
    "    edges {\n",
    "      node {\n",
    "        id,\n",
    "        title, \n",
    "        characterConnection {\n",
    "          characters {\n",
    "            name,\n",
    "            height,\n",
    "            mass,\n",
    "            hairColor,\n",
    "            skinColor,\n",
    "            eyeColor\n",
    "          }\n",
    "        }\n",
    "      }\n",
    "    }\n",
    "  }\n",
    "}\n",
    "\"\"\"\n",
    "\n",
    "response = requests.get(url=url, json={\"query\": body})\n",
    "print(\"response status code: \", response.status_code)\n",
    "if response.status_code == 200:\n",
    "  print(\"response : \", response.json())"
   ]
  },
  {
   "cell_type": "markdown",
   "metadata": {},
   "source": [
    "---------------------------"
   ]
  }
 ],
 "metadata": {
  "kernelspec": {
   "display_name": "Python 3",
   "language": "python",
   "name": "python3"
  },
  "language_info": {
   "codemirror_mode": {
    "name": "ipython",
    "version": 3
   },
   "file_extension": ".py",
   "mimetype": "text/x-python",
   "name": "python",
   "nbconvert_exporter": "python",
   "pygments_lexer": "ipython3",
   "version": "3.9.0"
  },
  "orig_nbformat": 4
 },
 "nbformat": 4,
 "nbformat_minor": 2
}
